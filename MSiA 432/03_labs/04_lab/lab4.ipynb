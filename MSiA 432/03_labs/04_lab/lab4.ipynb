{
 "cells": [
  {
   "attachments": {},
   "cell_type": "markdown",
   "metadata": {},
   "source": [
    "# Lab 4 DL with Keras"
   ]
  },
  {
   "attachments": {},
   "cell_type": "markdown",
   "metadata": {},
   "source": [
    "### Step 1 Import all necessary packages"
   ]
  },
  {
   "cell_type": "code",
   "execution_count": null,
   "metadata": {},
   "outputs": [],
   "source": [
    "import os\n",
    "import shutil\n",
    "\n",
    "import matplotlib.pyplot as plt\n",
    "import numpy as np\n",
    "from sklearn.datasets import load_iris\n",
    "from sklearn.decomposition import PCA\n",
    "from sklearn.model_selection import ParameterGrid, train_test_split\n",
    "from sklearn.preprocessing import StandardScaler\n",
    "from tensorflow.keras.callbacks import Callback, TensorBoard\n",
    "from tensorflow.keras.layers import BatchNormalization, Dense, Dropout\n",
    "from tensorflow.keras.models import Sequential\n",
    "from tensorflow.keras.regularizers import l1_l2\n",
    "from tensorflow.keras.wrappers.scikit_learn import KerasClassifier\n",
    "from tqdm import tqdm"
   ]
  },
  {
   "attachments": {},
   "cell_type": "markdown",
   "metadata": {},
   "source": [
    "### Step 2 Load and preprocess the data"
   ]
  },
  {
   "cell_type": "code",
   "execution_count": null,
   "metadata": {},
   "outputs": [],
   "source": [
    "# TODO: Load the Iris dataset or any other dataset of your choice"
   ]
  },
  {
   "cell_type": "code",
   "execution_count": null,
   "metadata": {},
   "outputs": [],
   "source": [
    "# TODO: Rescale the data\n",
    "\n",
    "# TODO: Determine the number of components to keep for PCA"
   ]
  },
  {
   "cell_type": "code",
   "execution_count": null,
   "metadata": {},
   "outputs": [],
   "source": [
    "# TODO: Apply PCA to the data to reduce the dimensionality"
   ]
  },
  {
   "attachments": {},
   "cell_type": "markdown",
   "metadata": {},
   "source": [
    "### Step 3 Define a custom Tensorboard callback for saving training results"
   ]
  },
  {
   "cell_type": "code",
   "execution_count": null,
   "metadata": {},
   "outputs": [],
   "source": [
    "class CustomTensorBoardCallback(Callback):\n",
    "    def __init__(self, log_dir):\n",
    "        super().__init__()\n",
    "        self.log_dir = log_dir\n",
    "\n",
    "    def on_train_begin(self, logs=None):\n",
    "        self.model.tensorboard_callback = TensorBoard(\n",
    "            log_dir=self.log_dir, histogram_freq=1)\n",
    "        self.model.tensorboard_callback.set_model(self.model)\n",
    "\n",
    "    def on_epoch_end(self, epoch, logs=None):\n",
    "        self.model.tensorboard_callback.on_epoch_end(epoch, logs)\n",
    "\n",
    "    def on_train_end(self, logs=None):\n",
    "        self.model.tensorboard_callback.on_train_end(logs)"
   ]
  },
  {
   "attachments": {},
   "cell_type": "markdown",
   "metadata": {},
   "source": [
    "### Step 4 Create an ANN with Keras"
   ]
  },
  {
   "cell_type": "code",
   "execution_count": null,
   "metadata": {},
   "outputs": [],
   "source": [
    "# TODO: Create the neural network model with specified hyperparameters\n",
    "def create_model(n_units1=64, n_units2=32, dropout_rate=0.5, l1_l2_reg=(1e-5, 1e-4)):\n",
    "    model = None\n",
    "    model.compile(optimizer='adam',\n",
    "                  loss='sparse_categorical_crossentropy', metrics=['accuracy'])\n",
    "    return model"
   ]
  },
  {
   "cell_type": "code",
   "execution_count": null,
   "metadata": {},
   "outputs": [],
   "source": [
    "# Wrap the model with KerasClassifier to use it with scikit-learn API\n",
    "model = KerasClassifier(build_fn=create_model,\n",
    "                        epochs=100, batch_size=32, verbose=0)"
   ]
  },
  {
   "attachments": {},
   "cell_type": "markdown",
   "metadata": {},
   "source": [
    "### Step 5 Define the parameters you want to tune"
   ]
  },
  {
   "cell_type": "code",
   "execution_count": null,
   "metadata": {},
   "outputs": [],
   "source": [
    "# Grid search hyperparameters\n",
    "param_grid = {\n",
    "    'n_units1': [32, 64],\n",
    "    'n_units2': [16, 32],\n",
    "    'dropout_rate': [0.25, 0.5],\n",
    "    'l1_l2_reg': [(1e-5, 1e-4), (1e-4, 1e-3)]\n",
    "}\n",
    "grid = ParameterGrid(param_grid)"
   ]
  },
  {
   "attachments": {},
   "cell_type": "markdown",
   "metadata": {},
   "source": [
    "### Step 6 Setup the logging with Tensorboard and train for each set of parameters"
   ]
  },
  {
   "cell_type": "code",
   "execution_count": null,
   "metadata": {},
   "outputs": [],
   "source": [
    "# Define the logs directory\n",
    "logs_dir = \"logs\"\n",
    "\n",
    "# Remove the logs directory if it exists\n",
    "if os.path.exists(logs_dir):\n",
    "    shutil.rmtree(logs_dir)\n",
    "\n",
    "# Create a new logs directory\n",
    "os.makedirs(logs_dir)"
   ]
  },
  {
   "cell_type": "code",
   "execution_count": null,
   "metadata": {},
   "outputs": [],
   "source": [
    "best_score = -np.inf\n",
    "best_params = None\n",
    "\n",
    "# Perform the grid search\n",
    "i = 0\n",
    "for params in tqdm(grid):\n",
    "    print(\"Training for the following params:\", params)\n",
    "    log_dir = f\"logs/grid_search_{i}\"\n",
    "    tensorboard_callback = CustomTensorBoardCallback(log_dir=log_dir)\n",
    "    model.set_params(**params)\n",
    "    model.fit(X_train, y_train, callbacks=[tensorboard_callback])\n",
    "    score = model.score(X_test, y_test)\n",
    "\n",
    "    if score > best_score:\n",
    "        best_score = score\n",
    "        best_params = params\n",
    "\n",
    "    i += 1\n"
   ]
  },
  {
   "cell_type": "code",
   "execution_count": null,
   "metadata": {},
   "outputs": [],
   "source": [
    "print(\"Best hyperparameters:\", best_params)"
   ]
  },
  {
   "attachments": {},
   "cell_type": "markdown",
   "metadata": {},
   "source": [
    "### Step 7 Create a new model with the best found parameter set and evaluate the model"
   ]
  },
  {
   "cell_type": "code",
   "execution_count": null,
   "metadata": {},
   "outputs": [],
   "source": [
    "best_model = create_model(**best_params)\n",
    "best_model.compile(\n",
    "    optimizer='adam', loss='sparse_categorical_crossentropy', metrics=['accuracy'])"
   ]
  },
  {
   "cell_type": "code",
   "execution_count": null,
   "metadata": {},
   "outputs": [],
   "source": [
    "best_model.fit(X_train, y_train, epochs=100, batch_size=32)"
   ]
  },
  {
   "cell_type": "code",
   "execution_count": null,
   "metadata": {},
   "outputs": [],
   "source": [
    "test_loss, test_accuracy = best_model.evaluate(X_test, y_test)\n",
    "print(f\"Test loss: {test_loss}, Test accuracy: {test_accuracy}\")"
   ]
  }
 ],
 "metadata": {
  "kernelspec": {
   "display_name": "py39",
   "language": "python",
   "name": "python3"
  },
  "language_info": {
   "codemirror_mode": {
    "name": "ipython",
    "version": 3
   },
   "file_extension": ".py",
   "mimetype": "text/x-python",
   "name": "python",
   "nbconvert_exporter": "python",
   "pygments_lexer": "ipython3",
   "version": "3.9.16"
  },
  "orig_nbformat": 4,
  "vscode": {
   "interpreter": {
    "hash": "e5a3cf3bbf79cc0706d42ef4f6c2dcac49bb11be2a4c79d0a169908188f81e81"
   }
  }
 },
 "nbformat": 4,
 "nbformat_minor": 2
}
