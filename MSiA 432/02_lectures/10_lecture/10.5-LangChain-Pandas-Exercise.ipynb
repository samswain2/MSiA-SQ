{
 "cells": [
  {
   "cell_type": "code",
   "execution_count": null,
   "id": "62d37f39",
   "metadata": {},
   "outputs": [],
   "source": [
    "#!pip install langchain openai"
   ]
  },
  {
   "cell_type": "code",
   "execution_count": null,
   "id": "21267d1c",
   "metadata": {},
   "outputs": [],
   "source": [
    "import os\n",
    "import pandas as pd\n",
    "\n",
    "from sklearn import datasets, ensemble\n",
    "from langchain.llms import OpenAI\n",
    "from langchain.agents import create_pandas_dataframe_agent"
   ]
  },
  {
   "cell_type": "code",
   "execution_count": null,
   "id": "698461f5",
   "metadata": {},
   "outputs": [],
   "source": [
    "openai.api_key = os.getenv(\"OPENAI_API_KEY\")"
   ]
  },
  {
   "cell_type": "code",
   "execution_count": null,
   "id": "bda064e7",
   "metadata": {},
   "outputs": [],
   "source": [
    "data = datasets.load_iris()\n",
    "df = pd.DataFrame(data=data.data, columns=data.feature_names)\n",
    "df.head()"
   ]
  },
  {
   "cell_type": "code",
   "execution_count": null,
   "id": "9ee2d7cd",
   "metadata": {},
   "outputs": [],
   "source": [
    "agent = create_pandas_dataframe_agent(OpenAI(temperature=0), df, verbose=True)"
   ]
  },
  {
   "cell_type": "code",
   "execution_count": null,
   "id": "8130444e",
   "metadata": {},
   "outputs": [],
   "source": [
    "agent.run(\"how many rows are there?\")"
   ]
  },
  {
   "cell_type": "code",
   "execution_count": null,
   "id": "d3225084",
   "metadata": {},
   "outputs": [],
   "source": [
    "agent.run(\"Which is the largest flower\")"
   ]
  },
  {
   "cell_type": "code",
   "execution_count": null,
   "id": "f95e22cd",
   "metadata": {},
   "outputs": [],
   "source": [
    "agent.run(\"whats the square root of the average sepal width?\")"
   ]
  },
  {
   "cell_type": "code",
   "execution_count": null,
   "id": "9b963c66",
   "metadata": {},
   "outputs": [],
   "source": [
    "agent.run(\"What are the flowers in this dataset and where are they found commonly ?\")"
   ]
  },
  {
   "cell_type": "code",
   "execution_count": null,
   "id": "015ba6be",
   "metadata": {},
   "outputs": [],
   "source": [
    "agent.run(\"Draw a correlation plot\")"
   ]
  }
 ],
 "metadata": {
  "kernelspec": {
   "display_name": "Python 3 (ipykernel)",
   "language": "python",
   "name": "python3"
  },
  "language_info": {
   "codemirror_mode": {
    "name": "ipython",
    "version": 3
   },
   "file_extension": ".py",
   "mimetype": "text/x-python",
   "name": "python",
   "nbconvert_exporter": "python",
   "pygments_lexer": "ipython3",
   "version": "3.10.9"
  }
 },
 "nbformat": 4,
 "nbformat_minor": 5
}
