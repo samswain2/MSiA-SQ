{
 "cells": [
  {
   "cell_type": "code",
   "execution_count": 1,
   "id": "e5b520bb",
   "metadata": {},
   "outputs": [],
   "source": [
    "import os\n",
    "import openai"
   ]
  },
  {
   "cell_type": "code",
   "execution_count": 2,
   "id": "b1174057",
   "metadata": {},
   "outputs": [],
   "source": [
    "openai.api_key = os.getenv(\"OPENAI_API_KEY\")"
   ]
  },
  {
   "cell_type": "markdown",
   "id": "05a45328",
   "metadata": {},
   "source": [
    "### Summarization"
   ]
  },
  {
   "cell_type": "code",
   "execution_count": 3,
   "id": "ce056752",
   "metadata": {},
   "outputs": [],
   "source": [
    "prompt = \"Summarize this for a second-grade student:\\n\\nJupiter is the fifth planet from the Sun and the largest in the Solar System. It is a gas giant with a mass one-thousandth that of the Sun, but two-and-a-half times that of all the other planets in the Solar System combined. Jupiter is one of the brightest objects visible to the naked eye in the night sky, and has been known to ancient civilizations since before recorded history. It is named after the Roman god Jupiter.[19] When viewed from Earth, Jupiter can be bright enough for its reflected light to cast visible shadows,[20] and is on average the third-brightest natural object in the night sky after the Moon and Venus.\","
   ]
  },
  {
   "cell_type": "code",
   "execution_count": 4,
   "id": "d4b2f869",
   "metadata": {},
   "outputs": [
    {
     "name": "stdout",
     "output_type": "stream",
     "text": [
      "\n",
      "\n",
      "Jupiter is the fifth planet from the Sun and it is very big. It is so bright that it can be seen in the night sky and has been known since before recorded history. It is named after the Roman god Jupiter and is one of the brightest objects in the night sky.\n"
     ]
    }
   ],
   "source": [
    "response = openai.Completion.create(\n",
    "  model=\"text-davinci-003\",\n",
    "  prompt= prompt,\n",
    "  temperature=0.7,\n",
    "  max_tokens=64,\n",
    "  top_p=1.0,\n",
    "  frequency_penalty=0.0,\n",
    "  presence_penalty=0.0\n",
    ")\n",
    "print(response.choices[0].text)"
   ]
  },
  {
   "cell_type": "markdown",
   "id": "c897aba5",
   "metadata": {},
   "source": [
    "### Question Answering\n",
    "\n",
    "Prompt\n",
    "<code>\n",
    "        I am a highly intelligent question answering bot. If you ask me a question that is rooted in truth, I will give you the answer. If you ask me a question that is nonsense, trickery, or has no clear answer, I will respond with \"Unknown\".\n",
    "    Q: What is human life expectancy in the United States?\n",
    "    A: Human life expectancy in the United States is 78 years.\n",
    "    Q: Who was president of the United States in 1955?\n",
    "    A: Dwight D. Eisenhower was president of the United States in 1955.\n",
    "    Q: Which party did he belong to?\n",
    "    A: He belonged to the Republican Party.\n",
    "    Q: What is the square root of banana?\n",
    "    A: Unknown\n",
    "    Q: How does a telescope work?\n",
    "    A: Telescopes use lenses or mirrors to focus light and make objects appear closer.\n",
    "    Q: Where were the 1992 Olympics held?\n",
    "    A: The 1992 Olympics were held in Barcelona, Spain.\n",
    "    Q: How many squigs are in a bonk?\n",
    "    A: Unknown\n",
    "    Q: Where is the Valley of Kings?\n",
    "    A:\n",
    " </code>"
   ]
  },
  {
   "cell_type": "code",
   "execution_count": 5,
   "id": "6d54da58",
   "metadata": {},
   "outputs": [],
   "source": [
    "prompt = \"I am a highly intelligent question answering bot. If you ask me a question that is rooted in truth, I will give you the answer. If you ask me a question that is nonsense, trickery, or has no clear answer, I will respond with \\\"Unknown\\\".\\n\\nQ: What is human life expectancy in the United States?\\nA: Human life expectancy in the United States is 78 years.\\n\\nQ: Who was president of the United States in 1955?\\nA: Dwight D. Eisenhower was president of the United States in 1955.\\n\\nQ: Which party did he belong to?\\nA: He belonged to the Republican Party.\\n\\nQ: What is the square root of banana?\\nA: Unknown\\n\\nQ: How does a telescope work?\\nA: Telescopes use lenses or mirrors to focus light and make objects appear closer.\\n\\nQ: Where were the 1992 Olympics held?\\nA: The 1992 Olympics were held in Barcelona, Spain.\\n\\nQ: How many squigs are in a bonk?\\nA: Unknown\\n\\nQ: Where is the Valley of Kings?\\nA:\","
   ]
  },
  {
   "cell_type": "code",
   "execution_count": 7,
   "id": "898e50dd",
   "metadata": {},
   "outputs": [
    {
     "name": "stdout",
     "output_type": "stream",
     "text": [
      " The Valley of Kings is located in Luxor, Egypt.\n"
     ]
    }
   ],
   "source": [
    "response = openai.Completion.create(\n",
    "  model=\"text-davinci-003\",\n",
    "  prompt=prompt,\n",
    "  temperature=0,\n",
    "  max_tokens=100,\n",
    "  top_p=1,\n",
    "  frequency_penalty=0.0,\n",
    "  presence_penalty=0.0,\n",
    "  stop=[\"\\n\"]\n",
    ")\n",
    "print(response.choices[0].text)"
   ]
  },
  {
   "cell_type": "markdown",
   "id": "366d69c6",
   "metadata": {},
   "source": [
    "### SQL\n",
    "\n",
    "Translate natural language to SQL queries.\n",
    "\n",
    "<code>\n",
    "Prompt\n",
    "### Postgres SQL tables, with their properties:\n",
    "#\n",
    "# Employee(id, name, department_id)\n",
    "# Department(id, name, address)\n",
    "# Salary_Payments(id, employee_id, amount, date)\n",
    "#\n",
    "### A query to list the names of the departments which employed more than 10 employees in the last 3 months\n",
    "SELECT\n",
    "</code>"
   ]
  },
  {
   "cell_type": "code",
   "execution_count": 8,
   "id": "8a72a9c3",
   "metadata": {},
   "outputs": [],
   "source": [
    "prompt=\"### Postgres SQL tables, with their properties:\\n#\\n# Employee(id, name, department_id)\\n# Department(id, name, address)\\n# Salary_Payments(id, employee_id, amount, date)\\n#\\n### A query to list the names of the departments which employed more than 10 employees in the last 3 months\\nSELECT\",\n"
   ]
  },
  {
   "cell_type": "code",
   "execution_count": 9,
   "id": "140c947a",
   "metadata": {},
   "outputs": [
    {
     "name": "stdout",
     "output_type": "stream",
     "text": [
      " d.name \n",
      "FROM Department d \n",
      "INNER JOIN Employee e ON d.id = e.department_id \n",
      "INNER JOIN Salary_Payments sp ON e.id = sp.employee_id \n",
      "WHERE sp.date > NOW() - INTERVAL '3 months' \n",
      "GROUP BY d.name \n",
      "HAVING COUNT(*) > 10\n"
     ]
    }
   ],
   "source": [
    "response = openai.Completion.create(\n",
    "  model=\"text-davinci-003\",\n",
    "  prompt=prompt,\n",
    "  temperature=0,\n",
    "  max_tokens=150,\n",
    "  top_p=1.0,\n",
    "  frequency_penalty=0.0,\n",
    "  presence_penalty=0.0,\n",
    "  stop=[\"#\", \";\"]\n",
    ")\n",
    "print(response.choices[0].text)"
   ]
  }
 ],
 "metadata": {
  "kernelspec": {
   "display_name": "Python 3 (ipykernel)",
   "language": "python",
   "name": "python3"
  },
  "language_info": {
   "codemirror_mode": {
    "name": "ipython",
    "version": 3
   },
   "file_extension": ".py",
   "mimetype": "text/x-python",
   "name": "python",
   "nbconvert_exporter": "python",
   "pygments_lexer": "ipython3",
   "version": "3.10.9"
  }
 },
 "nbformat": 4,
 "nbformat_minor": 5
}
