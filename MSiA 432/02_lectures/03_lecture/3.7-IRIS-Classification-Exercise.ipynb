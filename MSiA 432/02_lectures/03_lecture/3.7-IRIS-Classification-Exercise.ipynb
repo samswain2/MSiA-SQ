{
 "cells": [
  {
   "cell_type": "markdown",
   "metadata": {},
   "source": [
    "#  IRIS Classification\n",
    "\n",
    "## Classification of IRIS dataset using Neural Networks"
   ]
  },
  {
   "cell_type": "code",
   "execution_count": 2,
   "metadata": {
    "ExecuteTime": {
     "end_time": "2016-05-27T07:53:13.969789",
     "start_time": "2016-05-27T07:53:11.381960"
    }
   },
   "outputs": [],
   "source": [
    "#import libraries\n",
    "import numpy as np\n",
    "import pandas as pd\n",
    "import seaborn as sns\n",
    "import matplotlib.pyplot as plt\n",
    "from sklearn import linear_model, datasets,metrics\n",
    "#draw plots in the browser\n",
    "%matplotlib inline "
   ]
  },
  {
   "cell_type": "markdown",
   "metadata": {},
   "source": [
    "### IRIS data set\n",
    "#### https://en.wikipedia.org/wiki/Iris_flower_data_set"
   ]
  },
  {
   "cell_type": "code",
   "execution_count": 3,
   "metadata": {
    "ExecuteTime": {
     "end_time": "2016-05-27T07:53:13.984791",
     "start_time": "2016-05-27T07:53:13.972289"
    }
   },
   "outputs": [
    {
     "data": {
      "text/html": [
       "<img src=\"https://upload.wikimedia.org/wikipedia/commons/4/41/Iris_versicolor_3.jpg\" width=\"200\" height=\"200\"/>"
      ],
      "text/plain": [
       "<IPython.core.display.Image object>"
      ]
     },
     "execution_count": 3,
     "metadata": {},
     "output_type": "execute_result"
    }
   ],
   "source": [
    "from IPython.display import Image\n",
    "from IPython.core.display import HTML \n",
    "Image(url= \"https://upload.wikimedia.org/wikipedia/commons/4/41/Iris_versicolor_3.jpg\", width=200, height=200)"
   ]
  },
  {
   "cell_type": "code",
   "execution_count": 4,
   "metadata": {
    "ExecuteTime": {
     "end_time": "2016-05-27T07:53:14.041798",
     "start_time": "2016-05-27T07:53:13.987791"
    }
   },
   "outputs": [
    {
     "name": "stdout",
     "output_type": "stream",
     "text": [
      "Shape of the data  (150, 4)\n",
      "Shape of the data  ['setosa' 'versicolor' 'virginica']\n",
      "Attributes  ['sepal length (cm)', 'sepal width (cm)', 'petal length (cm)', 'petal width (cm)']\n",
      "[[5.1 3.5 1.4 0.2]\n",
      " [4.9 3.  1.4 0.2]\n",
      " [4.7 3.2 1.3 0.2]\n",
      " [4.6 3.1 1.5 0.2]\n",
      " [5.  3.6 1.4 0.2]]\n",
      "[0 0 0 0 0]\n"
     ]
    }
   ],
   "source": [
    "# import Iris dataset from Scikit-Learn's datasets\n",
    "iris = datasets.load_iris()\n",
    "\n",
    "print (\"Shape of the data \", iris.data.shape)\n",
    "print (\"Shape of the data \", iris.target_names)\n",
    "print (\"Attributes \", iris.feature_names)\n",
    "\n",
    "#view first 5 rows\n",
    "print (iris.data[range(5)])\n",
    "print (iris.target[range(5)])"
   ]
  },
  {
   "cell_type": "code",
   "execution_count": 5,
   "metadata": {
    "ExecuteTime": {
     "end_time": "2016-05-27T07:53:14.092305",
     "start_time": "2016-05-27T07:53:14.046799"
    }
   },
   "outputs": [
    {
     "data": {
      "text/html": [
       "<div>\n",
       "<style scoped>\n",
       "    .dataframe tbody tr th:only-of-type {\n",
       "        vertical-align: middle;\n",
       "    }\n",
       "\n",
       "    .dataframe tbody tr th {\n",
       "        vertical-align: top;\n",
       "    }\n",
       "\n",
       "    .dataframe thead tr th {\n",
       "        text-align: left;\n",
       "    }\n",
       "</style>\n",
       "<table border=\"1\" class=\"dataframe\">\n",
       "  <thead>\n",
       "    <tr>\n",
       "      <th></th>\n",
       "      <th>sepal length (cm)</th>\n",
       "      <th>sepal width (cm)</th>\n",
       "      <th>petal length (cm)</th>\n",
       "      <th>petal width (cm)</th>\n",
       "      <th>Class</th>\n",
       "      <th>Name</th>\n",
       "    </tr>\n",
       "  </thead>\n",
       "  <tbody>\n",
       "    <tr>\n",
       "      <th>0</th>\n",
       "      <td>5.1</td>\n",
       "      <td>3.5</td>\n",
       "      <td>1.4</td>\n",
       "      <td>0.2</td>\n",
       "      <td>0</td>\n",
       "      <td>setosa</td>\n",
       "    </tr>\n",
       "    <tr>\n",
       "      <th>1</th>\n",
       "      <td>4.9</td>\n",
       "      <td>3.0</td>\n",
       "      <td>1.4</td>\n",
       "      <td>0.2</td>\n",
       "      <td>0</td>\n",
       "      <td>setosa</td>\n",
       "    </tr>\n",
       "    <tr>\n",
       "      <th>2</th>\n",
       "      <td>4.7</td>\n",
       "      <td>3.2</td>\n",
       "      <td>1.3</td>\n",
       "      <td>0.2</td>\n",
       "      <td>0</td>\n",
       "      <td>setosa</td>\n",
       "    </tr>\n",
       "    <tr>\n",
       "      <th>3</th>\n",
       "      <td>4.6</td>\n",
       "      <td>3.1</td>\n",
       "      <td>1.5</td>\n",
       "      <td>0.2</td>\n",
       "      <td>0</td>\n",
       "      <td>setosa</td>\n",
       "    </tr>\n",
       "    <tr>\n",
       "      <th>4</th>\n",
       "      <td>5.0</td>\n",
       "      <td>3.6</td>\n",
       "      <td>1.4</td>\n",
       "      <td>0.2</td>\n",
       "      <td>0</td>\n",
       "      <td>setosa</td>\n",
       "    </tr>\n",
       "  </tbody>\n",
       "</table>\n",
       "</div>"
      ],
      "text/plain": [
       "  sepal length (cm) sepal width (cm) petal length (cm) petal width (cm) Class  \\\n",
       "0               5.1              3.5               1.4              0.2     0   \n",
       "1               4.9              3.0               1.4              0.2     0   \n",
       "2               4.7              3.2               1.3              0.2     0   \n",
       "3               4.6              3.1               1.5              0.2     0   \n",
       "4               5.0              3.6               1.4              0.2     0   \n",
       "\n",
       "     Name  \n",
       "0  setosa  \n",
       "1  setosa  \n",
       "2  setosa  \n",
       "3  setosa  \n",
       "4  setosa  "
      ]
     },
     "execution_count": 5,
     "metadata": {},
     "output_type": "execute_result"
    }
   ],
   "source": [
    "#show it as a table\n",
    "df = pd.DataFrame(data=iris.data)\n",
    "df.columns = [iris.feature_names]\n",
    "df['Class'] = iris.target\n",
    "df['Name'] = iris.target_names[iris.target]\n",
    "df.head()"
   ]
  },
  {
   "cell_type": "code",
   "execution_count": 6,
   "metadata": {
    "ExecuteTime": {
     "end_time": "2016-05-27T07:53:14.124309",
     "start_time": "2016-05-27T07:53:14.098305"
    }
   },
   "outputs": [],
   "source": [
    "X = iris.data[:, :2]  # we only take the first two features.\n",
    "Y = iris.target"
   ]
  },
  {
   "cell_type": "code",
   "execution_count": 7,
   "metadata": {
    "ExecuteTime": {
     "end_time": "2016-05-27T07:53:14.150312",
     "start_time": "2016-05-27T07:53:14.129809"
    }
   },
   "outputs": [
    {
     "data": {
      "text/plain": [
       "((45, 4), (45,))"
      ]
     },
     "execution_count": 7,
     "metadata": {},
     "output_type": "execute_result"
    }
   ],
   "source": [
    "from sklearn.model_selection import train_test_split\n",
    "X_train, X_test, y_train, y_test = train_test_split(iris.data, iris.target, test_size=0.3, random_state=0)\n",
    "X_train.shape, y_train.shape\n",
    "X_test.shape, y_test.shape"
   ]
  },
  {
   "cell_type": "markdown",
   "metadata": {},
   "source": [
    "### Neural Network using Keras + Tensorflow"
   ]
  },
  {
   "cell_type": "code",
   "execution_count": 9,
   "metadata": {
    "ExecuteTime": {
     "end_time": "2016-05-27T07:53:31.876063",
     "start_time": "2016-05-27T07:53:31.866562"
    }
   },
   "outputs": [],
   "source": [
    "from keras.models import Sequential\n",
    "from keras.layers import Dense, Activation\n",
    "from keras.utils import to_categorical"
   ]
  },
  {
   "cell_type": "markdown",
   "metadata": {},
   "source": [
    "Categorical data must be converted to a numerical form. "
   ]
  },
  {
   "cell_type": "code",
   "execution_count": 10,
   "metadata": {
    "ExecuteTime": {
     "end_time": "2016-05-27T07:53:31.892065",
     "start_time": "2016-05-27T07:53:31.879063"
    }
   },
   "outputs": [],
   "source": [
    "def one_hot_encode_object_array(arr):\n",
    "    '''One hot encode a numpy array of objects (e.g. strings)'''\n",
    "    uniques, ids = np.unique(arr, return_inverse=True)\n",
    "    return to_categorical(ids, len(uniques))\n",
    "\n",
    "y_train_ohe = one_hot_encode_object_array(y_train)\n",
    "y_test_ohe= one_hot_encode_object_array(y_test)"
   ]
  },
  {
   "cell_type": "markdown",
   "metadata": {},
   "source": [
    "### <span style=\"color:cornflowerblue\">Exercise:</span> \n",
    "#### Define and Train a Neural Network that can classify IRIS flowers"
   ]
  },
  {
   "cell_type": "code",
   "execution_count": 63,
   "metadata": {},
   "outputs": [
    {
     "data": {
      "text/plain": [
       "array([1, 2, 2, 2, 2, 1, 2, 1, 1, 2, 2, 2, 2, 1, 2, 1, 0, 2, 1, 1, 1, 1,\n",
       "       2, 0, 0, 2, 1, 0, 0, 1, 0, 2, 1, 0, 1, 2, 1, 0, 2, 2, 2, 2, 0, 0,\n",
       "       2, 2, 0, 2, 0, 2, 2, 0, 0, 2, 0, 0, 0, 1, 2, 2, 0, 0, 0, 1, 1, 0,\n",
       "       0, 1, 0, 2, 1, 2, 1, 0, 2, 0, 2, 0, 0, 2, 0, 2, 1, 1, 1, 2, 2, 1,\n",
       "       1, 0, 1, 2, 2, 0, 1, 1, 1, 1, 0, 0, 0, 2, 1, 2, 0])"
      ]
     },
     "execution_count": 63,
     "metadata": {},
     "output_type": "execute_result"
    }
   ],
   "source": [
    "y_train"
   ]
  },
  {
   "cell_type": "code",
   "execution_count": 135,
   "metadata": {},
   "outputs": [
    {
     "name": "stdout",
     "output_type": "stream",
     "text": [
      "Epoch 1/100\n",
      "4/4 [==============================] - 1s 2ms/step - loss: 1.1032 - accuracy: 0.3238\n",
      "Epoch 2/100\n",
      "4/4 [==============================] - 0s 2ms/step - loss: 1.1023 - accuracy: 0.3238\n",
      "Epoch 3/100\n",
      "4/4 [==============================] - 0s 2ms/step - loss: 1.1013 - accuracy: 0.3238\n",
      "Epoch 4/100\n",
      "4/4 [==============================] - 0s 9ms/step - loss: 1.1006 - accuracy: 0.3238\n",
      "Epoch 5/100\n",
      "4/4 [==============================] - 0s 3ms/step - loss: 1.1002 - accuracy: 0.3238\n",
      "Epoch 6/100\n",
      "4/4 [==============================] - 0s 3ms/step - loss: 1.0997 - accuracy: 0.3238\n",
      "Epoch 7/100\n",
      "4/4 [==============================] - 0s 3ms/step - loss: 1.0991 - accuracy: 0.3238\n",
      "Epoch 8/100\n",
      "4/4 [==============================] - 0s 2ms/step - loss: 1.0985 - accuracy: 0.3238\n",
      "Epoch 9/100\n",
      "4/4 [==============================] - 0s 2ms/step - loss: 1.0980 - accuracy: 0.2571\n",
      "Epoch 10/100\n",
      "4/4 [==============================] - 0s 2ms/step - loss: 1.0976 - accuracy: 0.2381\n",
      "Epoch 11/100\n",
      "4/4 [==============================] - 0s 2ms/step - loss: 1.0974 - accuracy: 0.3714\n",
      "Epoch 12/100\n",
      "4/4 [==============================] - 0s 2ms/step - loss: 1.0967 - accuracy: 0.3714\n",
      "Epoch 13/100\n",
      "4/4 [==============================] - 0s 2ms/step - loss: 1.0964 - accuracy: 0.3714\n",
      "Epoch 14/100\n",
      "4/4 [==============================] - 0s 2ms/step - loss: 1.0960 - accuracy: 0.3714\n",
      "Epoch 15/100\n",
      "4/4 [==============================] - 0s 2ms/step - loss: 1.0956 - accuracy: 0.3714\n",
      "Epoch 16/100\n",
      "4/4 [==============================] - 0s 2ms/step - loss: 1.0953 - accuracy: 0.3714\n",
      "Epoch 17/100\n",
      "4/4 [==============================] - 0s 2ms/step - loss: 1.0951 - accuracy: 0.3714\n",
      "Epoch 18/100\n",
      "4/4 [==============================] - 0s 2ms/step - loss: 1.0947 - accuracy: 0.3714\n",
      "Epoch 19/100\n",
      "4/4 [==============================] - 0s 2ms/step - loss: 1.0944 - accuracy: 0.3714\n",
      "Epoch 20/100\n",
      "4/4 [==============================] - 0s 2ms/step - loss: 1.0942 - accuracy: 0.3714\n",
      "Epoch 21/100\n",
      "4/4 [==============================] - 0s 2ms/step - loss: 1.0939 - accuracy: 0.3714\n",
      "Epoch 22/100\n",
      "4/4 [==============================] - 0s 2ms/step - loss: 1.0935 - accuracy: 0.3714\n",
      "Epoch 23/100\n",
      "4/4 [==============================] - 0s 2ms/step - loss: 1.0931 - accuracy: 0.3714\n",
      "Epoch 24/100\n",
      "4/4 [==============================] - 0s 2ms/step - loss: 1.0928 - accuracy: 0.3714\n",
      "Epoch 25/100\n",
      "4/4 [==============================] - 0s 2ms/step - loss: 1.0927 - accuracy: 0.3714\n",
      "Epoch 26/100\n",
      "4/4 [==============================] - 0s 2ms/step - loss: 1.0923 - accuracy: 0.3714\n",
      "Epoch 27/100\n",
      "4/4 [==============================] - 0s 2ms/step - loss: 1.0920 - accuracy: 0.3714\n",
      "Epoch 28/100\n",
      "4/4 [==============================] - 0s 2ms/step - loss: 1.0917 - accuracy: 0.3714\n",
      "Epoch 29/100\n",
      "4/4 [==============================] - 0s 2ms/step - loss: 1.0914 - accuracy: 0.3714\n",
      "Epoch 30/100\n",
      "4/4 [==============================] - 0s 2ms/step - loss: 1.0912 - accuracy: 0.3714\n",
      "Epoch 31/100\n",
      "4/4 [==============================] - 0s 2ms/step - loss: 1.0909 - accuracy: 0.3714\n",
      "Epoch 32/100\n",
      "4/4 [==============================] - 0s 2ms/step - loss: 1.0905 - accuracy: 0.3714\n",
      "Epoch 33/100\n",
      "4/4 [==============================] - 0s 2ms/step - loss: 1.0903 - accuracy: 0.3714\n",
      "Epoch 34/100\n",
      "4/4 [==============================] - 0s 10ms/step - loss: 1.0900 - accuracy: 0.3714\n",
      "Epoch 35/100\n",
      "4/4 [==============================] - 0s 2ms/step - loss: 1.0897 - accuracy: 0.3714\n",
      "Epoch 36/100\n",
      "4/4 [==============================] - 0s 2ms/step - loss: 1.0895 - accuracy: 0.3714\n",
      "Epoch 37/100\n",
      "4/4 [==============================] - 0s 5ms/step - loss: 1.0892 - accuracy: 0.3714\n",
      "Epoch 38/100\n",
      "4/4 [==============================] - 0s 3ms/step - loss: 1.0889 - accuracy: 0.3714\n",
      "Epoch 39/100\n",
      "4/4 [==============================] - 0s 2ms/step - loss: 1.0886 - accuracy: 0.3714\n",
      "Epoch 40/100\n",
      "4/4 [==============================] - 0s 2ms/step - loss: 1.0884 - accuracy: 0.3714\n",
      "Epoch 41/100\n",
      "4/4 [==============================] - 0s 2ms/step - loss: 1.0881 - accuracy: 0.3714\n",
      "Epoch 42/100\n",
      "4/4 [==============================] - 0s 2ms/step - loss: 1.0878 - accuracy: 0.3714\n",
      "Epoch 43/100\n",
      "4/4 [==============================] - 0s 2ms/step - loss: 1.0876 - accuracy: 0.3714\n",
      "Epoch 44/100\n",
      "4/4 [==============================] - 0s 2ms/step - loss: 1.0872 - accuracy: 0.3714\n",
      "Epoch 45/100\n",
      "4/4 [==============================] - 0s 2ms/step - loss: 1.0870 - accuracy: 0.3714\n",
      "Epoch 46/100\n",
      "4/4 [==============================] - 0s 2ms/step - loss: 1.0867 - accuracy: 0.3714\n",
      "Epoch 47/100\n",
      "4/4 [==============================] - 0s 2ms/step - loss: 1.0864 - accuracy: 0.3714\n",
      "Epoch 48/100\n",
      "4/4 [==============================] - 0s 2ms/step - loss: 1.0861 - accuracy: 0.3714\n",
      "Epoch 49/100\n",
      "4/4 [==============================] - 0s 2ms/step - loss: 1.0857 - accuracy: 0.3714\n",
      "Epoch 50/100\n",
      "4/4 [==============================] - 0s 2ms/step - loss: 1.0855 - accuracy: 0.3714\n",
      "Epoch 51/100\n",
      "4/4 [==============================] - 0s 3ms/step - loss: 1.0851 - accuracy: 0.3714\n",
      "Epoch 52/100\n",
      "4/4 [==============================] - 0s 2ms/step - loss: 1.0849 - accuracy: 0.3714\n",
      "Epoch 53/100\n",
      "4/4 [==============================] - 0s 3ms/step - loss: 1.0845 - accuracy: 0.3714\n",
      "Epoch 54/100\n",
      "4/4 [==============================] - 0s 2ms/step - loss: 1.0843 - accuracy: 0.3714\n",
      "Epoch 55/100\n",
      "4/4 [==============================] - 0s 3ms/step - loss: 1.0839 - accuracy: 0.3714\n",
      "Epoch 56/100\n",
      "4/4 [==============================] - 0s 2ms/step - loss: 1.0836 - accuracy: 0.3714\n",
      "Epoch 57/100\n",
      "4/4 [==============================] - 0s 3ms/step - loss: 1.0832 - accuracy: 0.3714\n",
      "Epoch 58/100\n",
      "4/4 [==============================] - 0s 2ms/step - loss: 1.0828 - accuracy: 0.3714\n",
      "Epoch 59/100\n",
      "4/4 [==============================] - 0s 3ms/step - loss: 1.0826 - accuracy: 0.3714\n",
      "Epoch 60/100\n",
      "4/4 [==============================] - 0s 13ms/step - loss: 1.0821 - accuracy: 0.3714\n",
      "Epoch 61/100\n",
      "4/4 [==============================] - 0s 5ms/step - loss: 1.0818 - accuracy: 0.3714\n",
      "Epoch 62/100\n",
      "4/4 [==============================] - 0s 3ms/step - loss: 1.0814 - accuracy: 0.3714\n",
      "Epoch 63/100\n",
      "4/4 [==============================] - 0s 2ms/step - loss: 1.0810 - accuracy: 0.3714\n",
      "Epoch 64/100\n",
      "4/4 [==============================] - 0s 2ms/step - loss: 1.0807 - accuracy: 0.3714\n",
      "Epoch 65/100\n",
      "4/4 [==============================] - 0s 2ms/step - loss: 1.0802 - accuracy: 0.3714\n",
      "Epoch 66/100\n",
      "4/4 [==============================] - 0s 2ms/step - loss: 1.0798 - accuracy: 0.3714\n",
      "Epoch 67/100\n",
      "4/4 [==============================] - 0s 2ms/step - loss: 1.0794 - accuracy: 0.3714\n",
      "Epoch 68/100\n",
      "4/4 [==============================] - 0s 2ms/step - loss: 1.0790 - accuracy: 0.3714\n",
      "Epoch 69/100\n",
      "4/4 [==============================] - 0s 2ms/step - loss: 1.0786 - accuracy: 0.3714\n",
      "Epoch 70/100\n",
      "4/4 [==============================] - 0s 2ms/step - loss: 1.0782 - accuracy: 0.3714\n",
      "Epoch 71/100\n",
      "4/4 [==============================] - 0s 2ms/step - loss: 1.0778 - accuracy: 0.3714\n",
      "Epoch 72/100\n",
      "4/4 [==============================] - 0s 2ms/step - loss: 1.0774 - accuracy: 0.3714\n",
      "Epoch 73/100\n",
      "4/4 [==============================] - 0s 2ms/step - loss: 1.0770 - accuracy: 0.3714\n",
      "Epoch 74/100\n",
      "4/4 [==============================] - 0s 2ms/step - loss: 1.0765 - accuracy: 0.3714\n",
      "Epoch 75/100\n",
      "4/4 [==============================] - 0s 2ms/step - loss: 1.0761 - accuracy: 0.3714\n",
      "Epoch 76/100\n",
      "4/4 [==============================] - 0s 2ms/step - loss: 1.0756 - accuracy: 0.3714\n",
      "Epoch 77/100\n",
      "4/4 [==============================] - 0s 2ms/step - loss: 1.0754 - accuracy: 0.3714\n",
      "Epoch 78/100\n",
      "4/4 [==============================] - 0s 2ms/step - loss: 1.0747 - accuracy: 0.3714\n",
      "Epoch 79/100\n",
      "4/4 [==============================] - 0s 2ms/step - loss: 1.0743 - accuracy: 0.3714\n",
      "Epoch 80/100\n",
      "4/4 [==============================] - 0s 2ms/step - loss: 1.0739 - accuracy: 0.3714\n",
      "Epoch 81/100\n",
      "4/4 [==============================] - 0s 2ms/step - loss: 1.0735 - accuracy: 0.3714\n",
      "Epoch 82/100\n",
      "4/4 [==============================] - 0s 2ms/step - loss: 1.0730 - accuracy: 0.3714\n",
      "Epoch 83/100\n",
      "4/4 [==============================] - 0s 2ms/step - loss: 1.0725 - accuracy: 0.3714\n",
      "Epoch 84/100\n",
      "4/4 [==============================] - 0s 2ms/step - loss: 1.0722 - accuracy: 0.3714\n",
      "Epoch 85/100\n",
      "4/4 [==============================] - 0s 2ms/step - loss: 1.0718 - accuracy: 0.3714\n",
      "Epoch 86/100\n",
      "4/4 [==============================] - 0s 2ms/step - loss: 1.0713 - accuracy: 0.3714\n",
      "Epoch 87/100\n",
      "4/4 [==============================] - 0s 2ms/step - loss: 1.0709 - accuracy: 0.3714\n",
      "Epoch 88/100\n",
      "4/4 [==============================] - 0s 2ms/step - loss: 1.0705 - accuracy: 0.3714\n",
      "Epoch 89/100\n",
      "4/4 [==============================] - 0s 3ms/step - loss: 1.0700 - accuracy: 0.3714\n",
      "Epoch 90/100\n",
      "4/4 [==============================] - 0s 9ms/step - loss: 1.0697 - accuracy: 0.3714\n",
      "Epoch 91/100\n",
      "4/4 [==============================] - 0s 2ms/step - loss: 1.0692 - accuracy: 0.3714\n",
      "Epoch 92/100\n",
      "4/4 [==============================] - 0s 2ms/step - loss: 1.0687 - accuracy: 0.3714\n",
      "Epoch 93/100\n",
      "4/4 [==============================] - 0s 2ms/step - loss: 1.0683 - accuracy: 0.3714\n",
      "Epoch 94/100\n",
      "4/4 [==============================] - 0s 2ms/step - loss: 1.0679 - accuracy: 0.3714\n",
      "Epoch 95/100\n",
      "4/4 [==============================] - 0s 2ms/step - loss: 1.0675 - accuracy: 0.3714\n",
      "Epoch 96/100\n",
      "4/4 [==============================] - 0s 1ms/step - loss: 1.0671 - accuracy: 0.3714\n",
      "Epoch 97/100\n",
      "4/4 [==============================] - 0s 2ms/step - loss: 1.0666 - accuracy: 0.3810\n",
      "Epoch 98/100\n",
      "4/4 [==============================] - 0s 2ms/step - loss: 1.0662 - accuracy: 0.4000\n",
      "Epoch 99/100\n",
      "4/4 [==============================] - 0s 2ms/step - loss: 1.0658 - accuracy: 0.4000\n",
      "Epoch 100/100\n",
      "4/4 [==============================] - 0s 2ms/step - loss: 1.0654 - accuracy: 0.4000\n",
      "2/2 [==============================] - 0s 2ms/step\n",
      "0.3333333333333333\n",
      "2/2 [==============================] - 0s 2ms/step\n"
     ]
    },
    {
     "data": {
      "text/plain": [
       "array([2, 2, 0, 2, 2, 2, 2, 2, 2, 2, 2, 2, 2, 2, 2, 0, 2, 2, 2, 0, 2, 2,\n",
       "       2, 2, 2, 0, 2, 2, 2, 2, 2, 2, 2, 2, 2, 2, 2, 2, 2, 2, 2, 2, 2, 2,\n",
       "       2], dtype=int64)"
      ]
     },
     "execution_count": 135,
     "metadata": {},
     "output_type": "execute_result"
    }
   ],
   "source": [
    "from keras.layers import Dense\n",
    "import numpy as np\n",
    "def create_iris_neural_network():\n",
    "    model = Sequential()\n",
    "    model.add(Dense(16, input_shape=(4,), activation='sigmoid'))\n",
    "    model.add(Activation('sigmoid'))\n",
    "    model.add(Dense(3, activation='sigmoid'))\n",
    "    model.add(Activation('softmax'))\n",
    "    model.compile(loss='categorical_crossentropy', optimizer='adam', metrics=['accuracy'])\n",
    "    return model\n",
    "\n",
    "model = create_iris_neural_network()\n",
    "model.fit(X_train, y_train_ohe, epochs=100)\n",
    "\n",
    "print((np.argmax(y_test_ohe, axis=1) == np.argmax(model.predict(X_test), axis=1)).mean())\n",
    "np.argmax(model.predict(X_test), axis=1)"
   ]
  },
  {
   "cell_type": "code",
   "execution_count": null,
   "metadata": {},
   "outputs": [],
   "source": []
  }
 ],
 "metadata": {
  "kernelspec": {
   "display_name": "Python 3 (ipykernel)",
   "language": "python",
   "name": "python3"
  },
  "language_info": {
   "codemirror_mode": {
    "name": "ipython",
    "version": 3
   },
   "file_extension": ".py",
   "mimetype": "text/x-python",
   "name": "python",
   "nbconvert_exporter": "python",
   "pygments_lexer": "ipython3",
   "version": "3.10.7"
  }
 },
 "nbformat": 4,
 "nbformat_minor": 1
}
