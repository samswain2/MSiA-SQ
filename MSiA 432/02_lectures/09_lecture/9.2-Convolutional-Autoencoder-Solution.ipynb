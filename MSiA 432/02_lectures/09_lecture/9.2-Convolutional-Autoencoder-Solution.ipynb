{
 "cells": [
  {
   "cell_type": "markdown",
   "metadata": {},
   "source": [
    "#  Convolutional Autoencoder\n",
    "\n",
    "https://blog.keras.io/building-autoencoders-in-keras.html\n",
    "\n",
    "Since our inputs are images, it makes sense to use convolutional neural networks (convnets) as encoders and decoders. In practical settings, autoencoders applied to images are always convolutional autoencoders --they simply perform much better.\n",
    "\n",
    "Let's implement one. The encoder will consist in a stack of Conv2D and MaxPooling2D layers (max pooling being used for spatial down-sampling), while the decoder will consist in a stack of Conv2D and UpSampling2D layers."
   ]
  },
  {
   "cell_type": "code",
   "execution_count": 1,
   "metadata": {},
   "outputs": [],
   "source": [
    "from tensorflow.keras.layers import Input, Dense, Conv2D, MaxPooling2D, UpSampling2D\n",
    "from tensorflow.keras.models import Model\n",
    "from tensorflow.keras import backend as K\n",
    "import matplotlib.pyplot as plt\n",
    "%matplotlib inline"
   ]
  },
  {
   "cell_type": "code",
   "execution_count": 2,
   "metadata": {},
   "outputs": [],
   "source": [
    "input_img = Input(shape=(28, 28, 1))  # adapt this if using `channels_first` image data format\n",
    "\n",
    "x = Conv2D(16, (3, 3), activation='relu', padding='same')(input_img)\n",
    "x = MaxPooling2D((2, 2), padding='same')(x)\n",
    "x = Conv2D(8, (3, 3), activation='relu', padding='same')(x)\n",
    "x = MaxPooling2D((2, 2), padding='same')(x)\n",
    "x = Conv2D(8, (3, 3), activation='relu', padding='same')(x)\n",
    "encoded = MaxPooling2D((2, 2), padding='same')(x)\n",
    "\n",
    "# at this point the representation is (4, 4, 8) i.e. 128-dimensional\n",
    "\n",
    "x = Conv2D(8, (3, 3), activation='relu', padding='same')(encoded)\n",
    "x = UpSampling2D((2, 2))(x)\n",
    "x = Conv2D(8, (3, 3), activation='relu', padding='same')(x)\n",
    "x = UpSampling2D((2, 2))(x)\n",
    "x = Conv2D(16, (3, 3), activation='relu')(x)\n",
    "x = UpSampling2D((2, 2))(x)\n",
    "decoded = Conv2D(1, (3, 3), activation='sigmoid', padding='same')(x)\n",
    "\n",
    "autoencoder = Model(input_img, decoded)\n",
    "autoencoder.compile(optimizer='adadelta', loss='binary_crossentropy')"
   ]
  },
  {
   "cell_type": "markdown",
   "metadata": {},
   "source": [
    "To train it, we will use the original MNIST digits with shape (samples, 3, 28, 28), and we will just normalize pixel values between 0 and 1."
   ]
  },
  {
   "cell_type": "code",
   "execution_count": 3,
   "metadata": {},
   "outputs": [],
   "source": [
    "from keras.datasets import mnist\n",
    "import numpy as np\n",
    "\n",
    "(x_train, _), (x_test, _) = mnist.load_data()\n",
    "\n",
    "x_train = x_train.astype('float32') / 255.\n",
    "x_test = x_test.astype('float32') / 255.\n",
    "x_train = np.reshape(x_train, (len(x_train), 28, 28, 1))  # adapt this if using `channels_first` image data format\n",
    "x_test = np.reshape(x_test, (len(x_test), 28, 28, 1))  # adapt this if using `channels_first` image data forma"
   ]
  },
  {
   "cell_type": "markdown",
   "metadata": {},
   "source": [
    "Let's train this model for 50 epochs. For the sake of demonstrating how to visualize the results of a model during training, we will be using the TensorFlow backend and the TensorBoard callback.\n",
    "\n",
    "First, let's open up a terminal and start a TensorBoard server that will read logs stored at /tmp/autoencoder.\n",
    "\n",
    "Then let's train our model. In the callbacks list we pass an instance of the TensorBoard callback. After every epoch, this callback will write logs to /tmp/autoencoder, which can be read by our TensorBoard server."
   ]
  },
  {
   "cell_type": "code",
   "execution_count": 4,
   "metadata": {},
   "outputs": [
    {
     "name": "stdout",
     "output_type": "stream",
     "text": [
      "Epoch 1/50\n",
      "469/469 [==============================] - 24s 6ms/step - loss: 0.6971 - val_loss: 0.6956\n",
      "Epoch 2/50\n",
      "469/469 [==============================] - 2s 4ms/step - loss: 0.6941 - val_loss: 0.6925\n",
      "Epoch 3/50\n",
      "469/469 [==============================] - 2s 5ms/step - loss: 0.6909 - val_loss: 0.6893\n",
      "Epoch 4/50\n",
      "469/469 [==============================] - 3s 6ms/step - loss: 0.6875 - val_loss: 0.6856\n",
      "Epoch 5/50\n",
      "469/469 [==============================] - 2s 5ms/step - loss: 0.6831 - val_loss: 0.6803\n",
      "Epoch 6/50\n",
      "469/469 [==============================] - 2s 4ms/step - loss: 0.6759 - val_loss: 0.6707\n",
      "Epoch 7/50\n",
      "469/469 [==============================] - 2s 4ms/step - loss: 0.6614 - val_loss: 0.6489\n",
      "Epoch 8/50\n",
      "469/469 [==============================] - 2s 4ms/step - loss: 0.6225 - val_loss: 0.5846\n",
      "Epoch 9/50\n",
      "469/469 [==============================] - 2s 4ms/step - loss: 0.5285 - val_loss: 0.4913\n",
      "Epoch 10/50\n",
      "469/469 [==============================] - 2s 4ms/step - loss: 0.4809 - val_loss: 0.4799\n",
      "Epoch 11/50\n",
      "469/469 [==============================] - 2s 4ms/step - loss: 0.4726 - val_loss: 0.4728\n",
      "Epoch 12/50\n",
      "469/469 [==============================] - 2s 4ms/step - loss: 0.4657 - val_loss: 0.4661\n",
      "Epoch 13/50\n",
      "469/469 [==============================] - 2s 4ms/step - loss: 0.4594 - val_loss: 0.4601\n",
      "Epoch 14/50\n",
      "469/469 [==============================] - 2s 4ms/step - loss: 0.4535 - val_loss: 0.4545\n",
      "Epoch 15/50\n",
      "469/469 [==============================] - 2s 4ms/step - loss: 0.4481 - val_loss: 0.4492\n",
      "Epoch 16/50\n",
      "469/469 [==============================] - 2s 4ms/step - loss: 0.4430 - val_loss: 0.4442\n",
      "Epoch 17/50\n",
      "469/469 [==============================] - 2s 4ms/step - loss: 0.4380 - val_loss: 0.4393\n",
      "Epoch 18/50\n",
      "469/469 [==============================] - 2s 4ms/step - loss: 0.4332 - val_loss: 0.4345\n",
      "Epoch 19/50\n",
      "469/469 [==============================] - 2s 4ms/step - loss: 0.4285 - val_loss: 0.4297\n",
      "Epoch 20/50\n",
      "469/469 [==============================] - 2s 4ms/step - loss: 0.4237 - val_loss: 0.4248\n",
      "Epoch 21/50\n",
      "469/469 [==============================] - 2s 4ms/step - loss: 0.4188 - val_loss: 0.4200\n",
      "Epoch 22/50\n",
      "469/469 [==============================] - 2s 4ms/step - loss: 0.4140 - val_loss: 0.4151\n",
      "Epoch 23/50\n",
      "469/469 [==============================] - 2s 4ms/step - loss: 0.4091 - val_loss: 0.4102\n",
      "Epoch 24/50\n",
      "469/469 [==============================] - 2s 4ms/step - loss: 0.4042 - val_loss: 0.4051\n",
      "Epoch 25/50\n",
      "469/469 [==============================] - 2s 4ms/step - loss: 0.3991 - val_loss: 0.3997\n",
      "Epoch 26/50\n",
      "469/469 [==============================] - 2s 4ms/step - loss: 0.3935 - val_loss: 0.3939\n",
      "Epoch 27/50\n",
      "469/469 [==============================] - 2s 4ms/step - loss: 0.3875 - val_loss: 0.3876\n",
      "Epoch 28/50\n",
      "469/469 [==============================] - 2s 4ms/step - loss: 0.3811 - val_loss: 0.3808\n",
      "Epoch 29/50\n",
      "469/469 [==============================] - 2s 4ms/step - loss: 0.3745 - val_loss: 0.3742\n",
      "Epoch 30/50\n",
      "469/469 [==============================] - 2s 4ms/step - loss: 0.3678 - val_loss: 0.3672\n",
      "Epoch 31/50\n",
      "469/469 [==============================] - 2s 4ms/step - loss: 0.3605 - val_loss: 0.3594\n",
      "Epoch 32/50\n",
      "469/469 [==============================] - 2s 4ms/step - loss: 0.3526 - val_loss: 0.3511\n",
      "Epoch 33/50\n",
      "469/469 [==============================] - 2s 4ms/step - loss: 0.3447 - val_loss: 0.3436\n",
      "Epoch 34/50\n",
      "469/469 [==============================] - 2s 5ms/step - loss: 0.3378 - val_loss: 0.3372\n",
      "Epoch 35/50\n",
      "469/469 [==============================] - 2s 5ms/step - loss: 0.3320 - val_loss: 0.3318\n",
      "Epoch 36/50\n",
      "469/469 [==============================] - 2s 5ms/step - loss: 0.3268 - val_loss: 0.3267\n",
      "Epoch 37/50\n",
      "469/469 [==============================] - 2s 5ms/step - loss: 0.3219 - val_loss: 0.3219\n",
      "Epoch 38/50\n",
      "469/469 [==============================] - 2s 5ms/step - loss: 0.3172 - val_loss: 0.3172\n",
      "Epoch 39/50\n",
      "469/469 [==============================] - 2s 4ms/step - loss: 0.3126 - val_loss: 0.3126\n",
      "Epoch 40/50\n",
      "469/469 [==============================] - 2s 4ms/step - loss: 0.3081 - val_loss: 0.3080\n",
      "Epoch 41/50\n",
      "469/469 [==============================] - 2s 4ms/step - loss: 0.3036 - val_loss: 0.3035\n",
      "Epoch 42/50\n",
      "469/469 [==============================] - 2s 5ms/step - loss: 0.2991 - val_loss: 0.2990\n",
      "Epoch 43/50\n",
      "469/469 [==============================] - 2s 4ms/step - loss: 0.2948 - val_loss: 0.2947\n",
      "Epoch 44/50\n",
      "469/469 [==============================] - 2s 4ms/step - loss: 0.2907 - val_loss: 0.2905\n",
      "Epoch 45/50\n",
      "469/469 [==============================] - 2s 4ms/step - loss: 0.2866 - val_loss: 0.2864\n",
      "Epoch 46/50\n",
      "469/469 [==============================] - 2s 4ms/step - loss: 0.2828 - val_loss: 0.2826\n",
      "Epoch 47/50\n",
      "469/469 [==============================] - 2s 4ms/step - loss: 0.2792 - val_loss: 0.2791\n",
      "Epoch 48/50\n",
      "469/469 [==============================] - 2s 5ms/step - loss: 0.2759 - val_loss: 0.2758\n",
      "Epoch 49/50\n",
      "469/469 [==============================] - 2s 4ms/step - loss: 0.2728 - val_loss: 0.2728\n",
      "Epoch 50/50\n",
      "469/469 [==============================] - 2s 5ms/step - loss: 0.2700 - val_loss: 0.2701\n"
     ]
    },
    {
     "data": {
      "text/plain": [
       "<keras.callbacks.History at 0x1eb040bb940>"
      ]
     },
     "execution_count": 4,
     "metadata": {},
     "output_type": "execute_result"
    }
   ],
   "source": [
    "from keras.callbacks import TensorBoard\n",
    "\n",
    "autoencoder.fit(x_train, x_train,\n",
    "                epochs=50,\n",
    "                batch_size=128,\n",
    "                shuffle=True,\n",
    "                validation_data=(x_test, x_test),\n",
    "                callbacks=[TensorBoard(log_dir='/tmp/autoencoder')])"
   ]
  },
  {
   "cell_type": "markdown",
   "metadata": {},
   "source": [
    "The model converges to a loss of 0.094, significantly better than our previous models (this is in large part due to the higher entropic capacity of the encoded representation, 128 dimensions vs. 32 previously). Let's take a look at the reconstructed digits:"
   ]
  },
  {
   "cell_type": "code",
   "execution_count": 5,
   "metadata": {},
   "outputs": [
    {
     "data": {
      "image/png": "[encoded data removed]",
      "text/plain": [
       "<Figure size 1440x288 with 18 Axes>"
      ]
     },
     "metadata": {
      "needs_background": "light"
     },
     "output_type": "display_data"
    }
   ],
   "source": [
    "decoded_imgs = autoencoder.predict(x_test)\n",
    "\n",
    "n = 10\n",
    "plt.figure(figsize=(20, 4))\n",
    "for i in range(1,n):\n",
    "    # display original\n",
    "    ax = plt.subplot(2, n, i)\n",
    "    plt.imshow(x_test[i].reshape(28, 28))\n",
    "    plt.gray()\n",
    "    ax.get_xaxis().set_visible(False)\n",
    "    ax.get_yaxis().set_visible(False)\n",
    "\n",
    "    # display reconstruction\n",
    "    ax = plt.subplot(2, n, i + n)\n",
    "    plt.imshow(decoded_imgs[i].reshape(28, 28))\n",
    "    plt.gray()\n",
    "    ax.get_xaxis().set_visible(False)\n",
    "    ax.get_yaxis().set_visible(False)\n",
    "plt.show()"
   ]
  },
  {
   "cell_type": "markdown",
   "metadata": {},
   "source": [
    "### Application to image denoising\n",
    "\n",
    "Let's put our convolutional autoencoder to work on an image denoising problem. We will train the autoencoder to map noisy digits images to clean digits images.\n",
    "\n",
    "Here's how we will generate synthetic noisy digits: we just apply a gaussian noise matrix and clip the images between 0 and 1."
   ]
  },
  {
   "cell_type": "code",
   "execution_count": 6,
   "metadata": {},
   "outputs": [],
   "source": [
    "from keras.datasets import mnist\n",
    "import numpy as np\n",
    "\n",
    "(x_train, _), (x_test, _) = mnist.load_data()\n",
    "\n",
    "x_train = x_train.astype('float32') / 255.\n",
    "x_test = x_test.astype('float32') / 255.\n",
    "x_train = np.reshape(x_train, (len(x_train), 28, 28, 1))  # adapt this if using `channels_first` image data format\n",
    "x_test = np.reshape(x_test, (len(x_test), 28, 28, 1))  # adapt this if using `channels_first` image data format\n",
    "\n",
    "noise_factor = 0.5\n",
    "x_train_noisy = x_train + noise_factor * np.random.normal(loc=0.0, scale=1.0, size=x_train.shape) \n",
    "x_test_noisy = x_test + noise_factor * np.random.normal(loc=0.0, scale=1.0, size=x_test.shape) \n",
    "\n",
    "x_train_noisy = np.clip(x_train_noisy, 0., 1.)\n",
    "x_test_noisy = np.clip(x_test_noisy, 0., 1.)"
   ]
  },
  {
   "cell_type": "markdown",
   "metadata": {},
   "source": [
    "Here's what the noisy digits look like:"
   ]
  },
  {
   "cell_type": "code",
   "execution_count": 7,
   "metadata": {},
   "outputs": [
    {
     "data": {
      "image/png": "[encoded data removed]",
      "text/plain": [
       "<Figure size 1440x144 with 9 Axes>"
      ]
     },
     "metadata": {
      "needs_background": "light"
     },
     "output_type": "display_data"
    }
   ],
   "source": [
    "n = 10\n",
    "plt.figure(figsize=(20, 2))\n",
    "for i in range(1,n):\n",
    "    ax = plt.subplot(1, n, i)\n",
    "    plt.imshow(x_test_noisy[i].reshape(28, 28))\n",
    "    plt.gray()\n",
    "    ax.get_xaxis().set_visible(False)\n",
    "    ax.get_yaxis().set_visible(False)\n",
    "plt.show()"
   ]
  },
  {
   "cell_type": "markdown",
   "metadata": {},
   "source": [
    "If you squint you can still recognize them, but barely. Can our autoencoder learn to recover the original digits? Let's find out.\n",
    "\n",
    "Compared to the previous convolutional autoencoder, in order to improve the quality of the reconstructed, we'll use a slightly different model with more filters per layer:"
   ]
  },
  {
   "cell_type": "code",
   "execution_count": 8,
   "metadata": {},
   "outputs": [],
   "source": [
    "input_img = Input(shape=(28, 28, 1))  # adapt this if using `channels_first` image data format\n",
    "\n",
    "x = Conv2D(32, (3, 3), activation='relu', padding='same')(input_img)\n",
    "x = MaxPooling2D((2, 2), padding='same')(x)\n",
    "x = Conv2D(32, (3, 3), activation='relu', padding='same')(x)\n",
    "encoded = MaxPooling2D((2, 2), padding='same')(x)\n",
    "\n",
    "# at this point the representation is (7, 7, 32)\n",
    "\n",
    "x = Conv2D(32, (3, 3), activation='relu', padding='same')(encoded)\n",
    "x = UpSampling2D((2, 2))(x)\n",
    "x = Conv2D(32, (3, 3), activation='relu', padding='same')(x)\n",
    "x = UpSampling2D((2, 2))(x)\n",
    "decoded = Conv2D(1, (3, 3), activation='sigmoid', padding='same')(x)\n",
    "\n",
    "autoencoder = Model(input_img, decoded)\n",
    "autoencoder.compile(optimizer='adadelta', loss='binary_crossentropy')"
   ]
  },
  {
   "cell_type": "markdown",
   "metadata": {},
   "source": [
    "Let's train it for 100 epochs:"
   ]
  },
  {
   "cell_type": "code",
   "execution_count": 9,
   "metadata": {},
   "outputs": [
    {
     "name": "stdout",
     "output_type": "stream",
     "text": [
      "Epoch 1/100\n",
      "469/469 [==============================] - 3s 6ms/step - loss: 0.6707 - val_loss: 0.6510\n",
      "Epoch 2/100\n",
      "469/469 [==============================] - 2s 5ms/step - loss: 0.6226 - val_loss: 0.5908\n",
      "Epoch 3/100\n",
      "469/469 [==============================] - 2s 5ms/step - loss: 0.5535 - val_loss: 0.5247\n",
      "Epoch 4/100\n",
      "469/469 [==============================] - 2s 5ms/step - loss: 0.5078 - val_loss: 0.5023\n",
      "Epoch 5/100\n",
      "469/469 [==============================] - 2s 5ms/step - loss: 0.4947 - val_loss: 0.4942\n",
      "Epoch 6/100\n",
      "469/469 [==============================] - 2s 5ms/step - loss: 0.4869 - val_loss: 0.4866\n",
      "Epoch 7/100\n",
      "469/469 [==============================] - 2s 5ms/step - loss: 0.4793 - val_loss: 0.4787\n",
      "Epoch 8/100\n",
      "469/469 [==============================] - 2s 5ms/step - loss: 0.4713 - val_loss: 0.4703\n",
      "Epoch 9/100\n",
      "469/469 [==============================] - 2s 5ms/step - loss: 0.4627 - val_loss: 0.4613\n",
      "Epoch 10/100\n",
      "469/469 [==============================] - 3s 5ms/step - loss: 0.4533 - val_loss: 0.4512\n",
      "Epoch 11/100\n",
      "469/469 [==============================] - 3s 6ms/step - loss: 0.4427 - val_loss: 0.4397\n",
      "Epoch 12/100\n",
      "469/469 [==============================] - 3s 6ms/step - loss: 0.4303 - val_loss: 0.4259\n",
      "Epoch 13/100\n",
      "469/469 [==============================] - 3s 6ms/step - loss: 0.4151 - val_loss: 0.4085\n",
      "Epoch 14/100\n",
      "469/469 [==============================] - 3s 6ms/step - loss: 0.3960 - val_loss: 0.3871\n",
      "Epoch 15/100\n",
      "469/469 [==============================] - 3s 6ms/step - loss: 0.3732 - val_loss: 0.3625\n",
      "Epoch 16/100\n",
      "469/469 [==============================] - 3s 6ms/step - loss: 0.3479 - val_loss: 0.3362\n",
      "Epoch 17/100\n",
      "469/469 [==============================] - 3s 5ms/step - loss: 0.3221 - val_loss: 0.3107\n",
      "Epoch 18/100\n",
      "469/469 [==============================] - 3s 5ms/step - loss: 0.2981 - val_loss: 0.2880\n",
      "Epoch 19/100\n",
      "469/469 [==============================] - 3s 5ms/step - loss: 0.2776 - val_loss: 0.2693\n",
      "Epoch 20/100\n",
      "469/469 [==============================] - 3s 6ms/step - loss: 0.2610 - val_loss: 0.2544\n",
      "Epoch 21/100\n",
      "469/469 [==============================] - 3s 5ms/step - loss: 0.2478 - val_loss: 0.2424\n",
      "Epoch 22/100\n",
      "469/469 [==============================] - 3s 5ms/step - loss: 0.2371 - val_loss: 0.2326\n",
      "Epoch 23/100\n",
      "469/469 [==============================] - 2s 5ms/step - loss: 0.2285 - val_loss: 0.2248\n",
      "Epoch 24/100\n",
      "469/469 [==============================] - 3s 5ms/step - loss: 0.2218 - val_loss: 0.2188\n",
      "Epoch 25/100\n",
      "469/469 [==============================] - 3s 5ms/step - loss: 0.2166 - val_loss: 0.2141\n",
      "Epoch 26/100\n",
      "469/469 [==============================] - 3s 5ms/step - loss: 0.2125 - val_loss: 0.2104\n",
      "Epoch 27/100\n",
      "469/469 [==============================] - 2s 5ms/step - loss: 0.2092 - val_loss: 0.2072\n",
      "Epoch 28/100\n",
      "469/469 [==============================] - 2s 5ms/step - loss: 0.2062 - val_loss: 0.2043\n",
      "Epoch 29/100\n",
      "469/469 [==============================] - 3s 5ms/step - loss: 0.2034 - val_loss: 0.2015\n",
      "Epoch 30/100\n",
      "469/469 [==============================] - 3s 5ms/step - loss: 0.2007 - val_loss: 0.1988\n",
      "Epoch 31/100\n",
      "469/469 [==============================] - 3s 5ms/step - loss: 0.1981 - val_loss: 0.1962\n",
      "Epoch 32/100\n",
      "469/469 [==============================] - 3s 6ms/step - loss: 0.1956 - val_loss: 0.1937\n",
      "Epoch 33/100\n",
      "469/469 [==============================] - 3s 6ms/step - loss: 0.1931 - val_loss: 0.1913\n",
      "Epoch 34/100\n",
      "469/469 [==============================] - 3s 6ms/step - loss: 0.1908 - val_loss: 0.1890\n",
      "Epoch 35/100\n",
      "469/469 [==============================] - 3s 6ms/step - loss: 0.1886 - val_loss: 0.1868\n",
      "Epoch 36/100\n",
      "469/469 [==============================] - 3s 6ms/step - loss: 0.1865 - val_loss: 0.1847\n",
      "Epoch 37/100\n",
      "469/469 [==============================] - 3s 6ms/step - loss: 0.1845 - val_loss: 0.1827\n",
      "Epoch 38/100\n",
      "469/469 [==============================] - 2s 5ms/step - loss: 0.1826 - val_loss: 0.1808\n",
      "Epoch 39/100\n",
      "469/469 [==============================] - 2s 5ms/step - loss: 0.1809 - val_loss: 0.1791\n",
      "Epoch 40/100\n",
      "469/469 [==============================] - 2s 5ms/step - loss: 0.1792 - val_loss: 0.1775\n",
      "Epoch 41/100\n",
      "469/469 [==============================] - 2s 5ms/step - loss: 0.1776 - val_loss: 0.1759\n",
      "Epoch 42/100\n",
      "469/469 [==============================] - 2s 5ms/step - loss: 0.1761 - val_loss: 0.1745\n",
      "Epoch 43/100\n",
      "469/469 [==============================] - 2s 5ms/step - loss: 0.1748 - val_loss: 0.1731\n",
      "Epoch 44/100\n",
      "469/469 [==============================] - 2s 5ms/step - loss: 0.1735 - val_loss: 0.1718\n",
      "Epoch 45/100\n",
      "469/469 [==============================] - 2s 5ms/step - loss: 0.1723 - val_loss: 0.1707\n",
      "Epoch 46/100\n",
      "469/469 [==============================] - 2s 5ms/step - loss: 0.1711 - val_loss: 0.1695\n",
      "Epoch 47/100\n",
      "469/469 [==============================] - 2s 5ms/step - loss: 0.1701 - val_loss: 0.1685\n",
      "Epoch 48/100\n",
      "469/469 [==============================] - 2s 5ms/step - loss: 0.1691 - val_loss: 0.1675\n",
      "Epoch 49/100\n",
      "469/469 [==============================] - 2s 5ms/step - loss: 0.1681 - val_loss: 0.1666\n",
      "Epoch 50/100\n",
      "469/469 [==============================] - 3s 5ms/step - loss: 0.1672 - val_loss: 0.1657\n",
      "Epoch 51/100\n",
      "469/469 [==============================] - 3s 6ms/step - loss: 0.1663 - val_loss: 0.1648\n",
      "Epoch 52/100\n",
      "469/469 [==============================] - 3s 6ms/step - loss: 0.1655 - val_loss: 0.1640\n",
      "Epoch 53/100\n",
      "469/469 [==============================] - 3s 6ms/step - loss: 0.1647 - val_loss: 0.1632\n",
      "Epoch 54/100\n",
      "469/469 [==============================] - 3s 6ms/step - loss: 0.1639 - val_loss: 0.1624\n",
      "Epoch 55/100\n",
      "469/469 [==============================] - 3s 6ms/step - loss: 0.1632 - val_loss: 0.1617\n",
      "Epoch 56/100\n",
      "469/469 [==============================] - 3s 6ms/step - loss: 0.1625 - val_loss: 0.1610\n",
      "Epoch 57/100\n",
      "469/469 [==============================] - 3s 5ms/step - loss: 0.1618 - val_loss: 0.1603\n",
      "Epoch 58/100\n",
      "469/469 [==============================] - 2s 5ms/step - loss: 0.1611 - val_loss: 0.1596\n",
      "Epoch 59/100\n",
      "469/469 [==============================] - 3s 5ms/step - loss: 0.1604 - val_loss: 0.1589\n",
      "Epoch 60/100\n",
      "469/469 [==============================] - 3s 6ms/step - loss: 0.1598 - val_loss: 0.1583\n",
      "Epoch 61/100\n",
      "469/469 [==============================] - 2s 5ms/step - loss: 0.1592 - val_loss: 0.1577\n",
      "Epoch 62/100\n",
      "469/469 [==============================] - 2s 5ms/step - loss: 0.1585 - val_loss: 0.1570\n",
      "Epoch 63/100\n",
      "469/469 [==============================] - 3s 6ms/step - loss: 0.1579 - val_loss: 0.1564\n",
      "Epoch 64/100\n",
      "469/469 [==============================] - 3s 6ms/step - loss: 0.1574 - val_loss: 0.1559\n",
      "Epoch 65/100\n",
      "469/469 [==============================] - 3s 6ms/step - loss: 0.1568 - val_loss: 0.1553\n",
      "Epoch 66/100\n",
      "469/469 [==============================] - 3s 6ms/step - loss: 0.1562 - val_loss: 0.1547\n",
      "Epoch 67/100\n",
      "469/469 [==============================] - 3s 6ms/step - loss: 0.1557 - val_loss: 0.1542\n",
      "Epoch 68/100\n",
      "469/469 [==============================] - 3s 6ms/step - loss: 0.1551 - val_loss: 0.1536\n",
      "Epoch 69/100\n",
      "469/469 [==============================] - 3s 5ms/step - loss: 0.1546 - val_loss: 0.1531\n",
      "Epoch 70/100\n",
      "469/469 [==============================] - 2s 5ms/step - loss: 0.1541 - val_loss: 0.1526\n",
      "Epoch 71/100\n",
      "469/469 [==============================] - 2s 5ms/step - loss: 0.1536 - val_loss: 0.1521\n",
      "Epoch 72/100\n",
      "469/469 [==============================] - 2s 5ms/step - loss: 0.1531 - val_loss: 0.1516\n",
      "Epoch 73/100\n",
      "469/469 [==============================] - 2s 5ms/step - loss: 0.1526 - val_loss: 0.1511\n",
      "Epoch 74/100\n",
      "469/469 [==============================] - 2s 5ms/step - loss: 0.1522 - val_loss: 0.1507\n",
      "Epoch 75/100\n",
      "469/469 [==============================] - 3s 5ms/step - loss: 0.1517 - val_loss: 0.1502\n",
      "Epoch 76/100\n",
      "469/469 [==============================] - 3s 6ms/step - loss: 0.1512 - val_loss: 0.1498\n",
      "Epoch 77/100\n",
      "469/469 [==============================] - 3s 6ms/step - loss: 0.1508 - val_loss: 0.1493\n",
      "Epoch 78/100\n",
      "469/469 [==============================] - 3s 6ms/step - loss: 0.1504 - val_loss: 0.1489\n",
      "Epoch 79/100\n",
      "469/469 [==============================] - 3s 6ms/step - loss: 0.1500 - val_loss: 0.1485\n",
      "Epoch 80/100\n",
      "469/469 [==============================] - 3s 6ms/step - loss: 0.1495 - val_loss: 0.1481\n",
      "Epoch 81/100\n",
      "469/469 [==============================] - 3s 6ms/step - loss: 0.1491 - val_loss: 0.1477\n",
      "Epoch 82/100\n",
      "469/469 [==============================] - 2s 5ms/step - loss: 0.1487 - val_loss: 0.1473\n",
      "Epoch 83/100\n",
      "469/469 [==============================] - 2s 5ms/step - loss: 0.1484 - val_loss: 0.1469\n",
      "Epoch 84/100\n",
      "469/469 [==============================] - 3s 6ms/step - loss: 0.1480 - val_loss: 0.1465\n",
      "Epoch 85/100\n",
      "469/469 [==============================] - 3s 5ms/step - loss: 0.1476 - val_loss: 0.1461\n",
      "Epoch 86/100\n",
      "469/469 [==============================] - 3s 5ms/step - loss: 0.1472 - val_loss: 0.1458\n",
      "Epoch 87/100\n",
      "469/469 [==============================] - 3s 5ms/step - loss: 0.1469 - val_loss: 0.1454\n",
      "Epoch 88/100\n",
      "469/469 [==============================] - 2s 5ms/step - loss: 0.1465 - val_loss: 0.1451\n",
      "Epoch 89/100\n",
      "469/469 [==============================] - 3s 6ms/step - loss: 0.1462 - val_loss: 0.1447\n",
      "Epoch 90/100\n",
      "469/469 [==============================] - 3s 6ms/step - loss: 0.1458 - val_loss: 0.1444\n",
      "Epoch 91/100\n",
      "469/469 [==============================] - 3s 6ms/step - loss: 0.1455 - val_loss: 0.1441\n",
      "Epoch 92/100\n",
      "469/469 [==============================] - 3s 5ms/step - loss: 0.1452 - val_loss: 0.1437\n",
      "Epoch 93/100\n",
      "469/469 [==============================] - 3s 6ms/step - loss: 0.1449 - val_loss: 0.1434\n",
      "Epoch 94/100\n",
      "469/469 [==============================] - 3s 5ms/step - loss: 0.1446 - val_loss: 0.1431\n",
      "Epoch 95/100\n",
      "469/469 [==============================] - 3s 5ms/step - loss: 0.1443 - val_loss: 0.1428\n",
      "Epoch 96/100\n",
      "469/469 [==============================] - 2s 5ms/step - loss: 0.1440 - val_loss: 0.1425\n",
      "Epoch 97/100\n",
      "469/469 [==============================] - 2s 5ms/step - loss: 0.1436 - val_loss: 0.1422\n",
      "Epoch 98/100\n",
      "469/469 [==============================] - 2s 5ms/step - loss: 0.1434 - val_loss: 0.1419\n",
      "Epoch 99/100\n",
      "469/469 [==============================] - 2s 5ms/step - loss: 0.1431 - val_loss: 0.1416\n",
      "Epoch 100/100\n",
      "469/469 [==============================] - 2s 5ms/step - loss: 0.1428 - val_loss: 0.1413\n"
     ]
    },
    {
     "data": {
      "text/plain": [
       "<keras.callbacks.History at 0x1eb830fff70>"
      ]
     },
     "execution_count": 9,
     "metadata": {},
     "output_type": "execute_result"
    }
   ],
   "source": [
    "autoencoder.fit(x_train_noisy, x_train,\n",
    "                epochs=100,\n",
    "                batch_size=128,\n",
    "                shuffle=True,\n",
    "                validation_data=(x_test_noisy, x_test),\n",
    "                callbacks=[TensorBoard(log_dir='/tmp/tb', histogram_freq=0, write_graph=False)])"
   ]
  },
  {
   "cell_type": "markdown",
   "metadata": {},
   "source": [
    "Now let's take a look at the results. Top, the noisy digits fed to the network, and bottom, the digits are reconstructed by the network."
   ]
  },
  {
   "cell_type": "code",
   "execution_count": 10,
   "metadata": {},
   "outputs": [
    {
     "data": {
      "image/png": "[encoded data removed]",
      "text/plain": [
       "<Figure size 1440x288 with 18 Axes>"
      ]
     },
     "metadata": {
      "needs_background": "light"
     },
     "output_type": "display_data"
    }
   ],
   "source": [
    "decoded_imgs = autoencoder.predict(x_test_noisy)\n",
    "\n",
    "n = 10\n",
    "plt.figure(figsize=(20, 4))\n",
    "for i in range(1,n):\n",
    "    # display original\n",
    "    ax = plt.subplot(2, n, i)\n",
    "    plt.imshow(x_test_noisy[i].reshape(28, 28))\n",
    "    plt.gray()\n",
    "    ax.get_xaxis().set_visible(False)\n",
    "    ax.get_yaxis().set_visible(False)\n",
    "\n",
    "    # display reconstruction\n",
    "    ax = plt.subplot(2, n, i + n)\n",
    "    plt.imshow(decoded_imgs[i].reshape(28, 28))\n",
    "    plt.gray()\n",
    "    ax.get_xaxis().set_visible(False)\n",
    "    ax.get_yaxis().set_visible(False)\n",
    "plt.show()"
   ]
  }
 ],
 "metadata": {
  "kernelspec": {
   "display_name": "Python 3 (ipykernel)",
   "language": "python",
   "name": "python3"
  },
  "language_info": {
   "codemirror_mode": {
    "name": "ipython",
    "version": 3
   },
   "file_extension": ".py",
   "mimetype": "text/x-python",
   "name": "python",
   "nbconvert_exporter": "python",
   "pygments_lexer": "ipython3",
   "version": "3.9.12"
  }
 },
 "nbformat": 4,
 "nbformat_minor": 2
}
