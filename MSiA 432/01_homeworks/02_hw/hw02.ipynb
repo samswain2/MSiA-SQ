{
 "cells": [
  {
   "attachments": {},
   "cell_type": "markdown",
   "metadata": {},
   "source": [
    "# Libraries"
   ]
  },
  {
   "cell_type": "code",
   "execution_count": 1,
   "metadata": {},
   "outputs": [],
   "source": [
    "import numpy as np\n",
    "import tensorflow as tf\n",
    "import matplotlib.pyplot as plt\n",
    "from keras.models import Sequential\n",
    "from keras.layers import Dense"
   ]
  },
  {
   "attachments": {},
   "cell_type": "markdown",
   "metadata": {},
   "source": [
    "# Question 2"
   ]
  },
  {
   "cell_type": "code",
   "execution_count": 2,
   "metadata": {},
   "outputs": [
    {
     "name": "stdout",
     "output_type": "stream",
     "text": [
      "Epoch: 20, Loss: 0.16344070434570312\n",
      "Epoch: 40, Loss: 0.09785600751638412\n",
      "Epoch: 60, Loss: 0.06021253019571304\n",
      "Epoch: 80, Loss: 0.038461048156023026\n",
      "Epoch: 100, Loss: 0.025892410427331924\n"
     ]
    },
    {
     "data": {
      "image/png": "[encoded data removed]",
      "text/plain": [
       "<Figure size 640x480 with 1 Axes>"
      ]
     },
     "metadata": {},
     "output_type": "display_data"
    }
   ],
   "source": [
    "# Create synthetic dataset\n",
    "X = np.random.rand(100, 1)\n",
    "y = 2 * X + 3 + np.random.randn(100, 1) * 0.1\n",
    "\n",
    "# Initialize the weights and bias\n",
    "W = tf.Variable(tf.random.normal([1]))\n",
    "b = tf.Variable(tf.zeros([1]))\n",
    "\n",
    "# Define the linear model\n",
    "def linear_model(x):\n",
    "    return x * W + b\n",
    "\n",
    "# Define the loss function (Mean Squared Error)\n",
    "def loss_fn(y_true, y_pred):\n",
    "    return tf.reduce_mean(tf.square(y_true - y_pred))\n",
    "\n",
    "# Define the optimizer (Stochastic Gradient Descent)\n",
    "optimizer = tf.optimizers.SGD(learning_rate=0.1)\n",
    "\n",
    "# Training loop\n",
    "epochs = 100\n",
    "for epoch in range(epochs):\n",
    "    with tf.GradientTape() as tape:\n",
    "        y_pred = linear_model(X)\n",
    "        loss = loss_fn(y, y_pred)\n",
    "\n",
    "    # Calculate gradients\n",
    "    gradients = tape.gradient(loss, [W, b])\n",
    "\n",
    "    # Update weights and bias\n",
    "    optimizer.apply_gradients(zip(gradients, [W, b]))\n",
    "\n",
    "    if (epoch + 1) % 20 == 0:\n",
    "        print(f'Epoch: {epoch+1}, Loss: {loss.numpy()}')\n",
    "\n",
    "# Plot the data and the learned regression line\n",
    "plt.scatter(X, y, label=\"Data\")\n",
    "plt.plot(X, linear_model(X), color=\"red\", label=\"Learned Line\")\n",
    "plt.legend()\n",
    "plt.show()\n"
   ]
  },
  {
   "attachments": {},
   "cell_type": "markdown",
   "metadata": {},
   "source": [
    "# Question 3"
   ]
  },
  {
   "cell_type": "code",
   "execution_count": 3,
   "metadata": {},
   "outputs": [
    {
     "name": "stdout",
     "output_type": "stream",
     "text": [
      "3/3 [==============================] - 0s 2ms/step\n",
      "Logistic Regression:\n",
      "Accuracy: 0.99\n",
      "F1 Score: 0.99\n",
      "Confusion Matrix:\n",
      "[[29  0  0]\n",
      " [ 0 23  0]\n",
      " [ 0  1 22]]\n",
      "\n",
      "Random Forest:\n",
      "Accuracy: 0.99\n",
      "F1 Score: 0.99\n",
      "Confusion Matrix:\n",
      "[[29  0  0]\n",
      " [ 0 23  0]\n",
      " [ 0  1 22]]\n",
      "\n",
      "Keras Deep Learning:\n",
      "Accuracy: 0.99\n",
      "F1 Score: 0.99\n",
      "Confusion Matrix:\n",
      "[[29  0  0]\n",
      " [ 0 23  0]\n",
      " [ 0  1 22]]\n",
      "\n"
     ]
    }
   ],
   "source": [
    "# Define the model\n",
    "model = Sequential()\n",
    "model.add(Dense(8, input_dim=4, activation='relu'))\n",
    "model.add(Dense(8, activation='relu'))\n",
    "model.add(Dense(3, activation='softmax'))\n",
    "\n",
    "# Compile the model\n",
    "model.compile(loss='categorical_crossentropy', optimizer='adam', metrics=['accuracy'])\n",
    "\n",
    "from sklearn.datasets import load_iris\n",
    "from sklearn.model_selection import train_test_split\n",
    "from sklearn.preprocessing import StandardScaler, OneHotEncoder\n",
    "from sklearn.metrics import accuracy_score, f1_score, confusion_matrix\n",
    "from sklearn.linear_model import LogisticRegression\n",
    "from sklearn.ensemble import RandomForestClassifier\n",
    "\n",
    "# Load Iris dataset\n",
    "iris = load_iris()\n",
    "X = iris.data\n",
    "y = iris.target\n",
    "\n",
    "# Preprocess data\n",
    "X_train, X_test, y_train, y_test = train_test_split(X, y, test_size=0.5, random_state=42)\n",
    "scaler = StandardScaler()\n",
    "X_train_scaled = scaler.fit_transform(X_train)\n",
    "X_test_scaled = scaler.transform(X_test)\n",
    "\n",
    "# Train and evaluate Logistic Regression\n",
    "lr_model = LogisticRegression()\n",
    "lr_model.fit(X_train_scaled, y_train)\n",
    "lr_pred = lr_model.predict(X_test_scaled)\n",
    "\n",
    "# Train and evaluate Random Forest Classifier\n",
    "rf_model = RandomForestClassifier()\n",
    "rf_model.fit(X_train_scaled, y_train)\n",
    "rf_pred = rf_model.predict(X_test_scaled)\n",
    "\n",
    "# Train and evaluate Keras deep learning model\n",
    "encoder = OneHotEncoder()\n",
    "y_train_encoded = encoder.fit_transform(y_train.reshape(-1, 1)).toarray()\n",
    "y_test_encoded = encoder.transform(y_test.reshape(-1, 1)).toarray()\n",
    "history = model.fit(X_train_scaled, y_train_encoded, epochs=150, batch_size=10, verbose=0)\n",
    "keras_pred_probs = model.predict(X_test_scaled)\n",
    "keras_pred = np.argmax(keras_pred_probs, axis=-1)\n",
    "\n",
    "# Model performance metrics\n",
    "models = {'Logistic Regression': (lr_pred, y_test),\n",
    "          'Random Forest': (rf_pred, y_test),\n",
    "          'Keras Deep Learning': (keras_pred, y_test)}\n",
    "\n",
    "for model_name, (predictions, true_labels) in models.items():\n",
    "    accuracy = accuracy_score(true_labels, predictions)\n",
    "    f1 = f1_score(true_labels, predictions, average='weighted')\n",
    "    conf_matrix = confusion_matrix(true_labels, predictions)\n",
    "\n",
    "    print(f\"{model_name}:\\n\"\n",
    "          f\"Accuracy: {accuracy:.2f}\\n\"\n",
    "          f\"F1 Score: {f1:.2f}\\n\"\n",
    "          f\"Confusion Matrix:\\n{conf_matrix}\\n\")\n",
    "\n",
    "\n"
   ]
  },
  {
   "attachments": {},
   "cell_type": "markdown",
   "metadata": {},
   "source": [
    "# Question 4"
   ]
  },
  {
   "cell_type": "code",
   "execution_count": 4,
   "metadata": {},
   "outputs": [
    {
     "name": "stdout",
     "output_type": "stream",
     "text": [
      "Epoch 20, Loss: 0.07845162600278854\n",
      "Epoch 40, Loss: 0.034965965896844864\n",
      "Epoch 60, Loss: 0.015584324486553669\n",
      "Epoch 80, Loss: 0.006945925764739513\n",
      "Epoch 100, Loss: 0.0030957970302551985\n",
      "Input: [5.], Predicted Output: [10.945473]\n"
     ]
    }
   ],
   "source": [
    "# Prepare the dataset\n",
    "X = np.linspace(-10, 10, 1000)\n",
    "Y = 2 * X + 1\n",
    "\n",
    "# Define the model\n",
    "class SimpleLinearModel(tf.Module):\n",
    "    def __init__(self):\n",
    "        self.W = tf.Variable(tf.random.normal([1]), name='weight')\n",
    "        self.b = tf.Variable(tf.random.normal([1]), name='bias')\n",
    "\n",
    "    def __call__(self, x):\n",
    "        return self.W * x + self.b\n",
    "\n",
    "model = SimpleLinearModel()\n",
    "\n",
    "# Define the loss function\n",
    "def loss(predicted_y, target_y):\n",
    "    return tf.reduce_mean(tf.square(predicted_y - target_y))\n",
    "\n",
    "# Define the optimizer\n",
    "optimizer = tf.optimizers.SGD(learning_rate=0.01)\n",
    "\n",
    "# Define the training loop\n",
    "def train(model, inputs, outputs, num_epochs):\n",
    "    for epoch in range(num_epochs):\n",
    "        with tf.GradientTape() as tape:\n",
    "            predictions = model(inputs)\n",
    "            curr_loss = loss(predictions, outputs)\n",
    "\n",
    "        gradients = tape.gradient(curr_loss, [model.W, model.b])\n",
    "        optimizer.apply_gradients(zip(gradients, [model.W, model.b]))\n",
    "\n",
    "        if (epoch + 1) % 20 == 0:\n",
    "            print(f'Epoch {epoch+1}, Loss: {curr_loss.numpy()}')\n",
    "\n",
    "# Train the model\n",
    "train(model, X, Y, num_epochs=100)\n",
    "\n",
    "# Test the model\n",
    "test_input = tf.constant([5.0])\n",
    "test_output = model(test_input)\n",
    "print(f'Input: {test_input.numpy()}, Predicted Output: {test_output.numpy()}')\n"
   ]
  },
  {
   "cell_type": "code",
   "execution_count": null,
   "metadata": {},
   "outputs": [],
   "source": []
  }
 ],
 "metadata": {
  "kernelspec": {
   "display_name": "Python 3",
   "language": "python",
   "name": "python3"
  },
  "language_info": {
   "codemirror_mode": {
    "name": "ipython",
    "version": 3
   },
   "file_extension": ".py",
   "mimetype": "text/x-python",
   "name": "python",
   "nbconvert_exporter": "python",
   "pygments_lexer": "ipython3",
   "version": "3.10.4"
  },
  "orig_nbformat": 4
 },
 "nbformat": 4,
 "nbformat_minor": 2
}
