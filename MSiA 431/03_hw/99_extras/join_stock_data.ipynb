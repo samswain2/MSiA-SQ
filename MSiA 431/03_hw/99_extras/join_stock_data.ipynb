{
 "cells": [
  {
   "cell_type": "code",
   "execution_count": 2,
   "metadata": {},
   "outputs": [],
   "source": [
    "import pandas as pd\n",
    "import glob\n",
    "\n",
    "# Create a list to hold all the dataframes\n",
    "dfs = []\n",
    "\n",
    "# Change this to the path where your CSV files are located\n",
    "path_to_csvs = '../../../Data/MSiA 431/03_hw/S&P Data/'\n",
    "\n",
    "# Get a list of all the CSV files in the directory\n",
    "all_files = glob.glob(path_to_csvs + \"*.csv\")\n",
    "\n",
    "# Loop through each CSV file and read it into a dataframe\n",
    "for filename in all_files:\n",
    "    df = pd.read_csv(filename, index_col=None, thousands=',')\n",
    "    dfs.append(df)\n",
    "\n",
    "# Concatenate all the dataframes together\n",
    "combined_df = pd.concat(dfs, axis=0, ignore_index=True)\n",
    "\n",
    "# Remove duplicate dates\n",
    "combined_df = combined_df.drop_duplicates(subset='Date')\n",
    "\n",
    "# Convert the 'Date' column to datetime and sort by it\n",
    "combined_df['Date'] = pd.to_datetime(combined_df['Date'])\n",
    "combined_df = combined_df.sort_values(by='Date')\n",
    "\n",
    "# Reset the index of the final dataframe\n",
    "combined_df.reset_index(drop=True, inplace=True)\n",
    "\n",
    "# Write the combined dataframe to a new CSV file\n",
    "combined_df.to_csv('combined_sp500.csv', index=False)\n"
   ]
  }
 ],
 "metadata": {
  "kernelspec": {
   "display_name": "base",
   "language": "python",
   "name": "python3"
  },
  "language_info": {
   "codemirror_mode": {
    "name": "ipython",
    "version": 3
   },
   "file_extension": ".py",
   "mimetype": "text/x-python",
   "name": "python",
   "nbconvert_exporter": "python",
   "pygments_lexer": "ipython3",
   "version": "3.10.4"
  },
  "orig_nbformat": 4
 },
 "nbformat": 4,
 "nbformat_minor": 2
}
