{
 "cells": [
  {
   "attachments": {},
   "cell_type": "markdown",
   "metadata": {},
   "source": [
    "#### Import networkx"
   ]
  },
  {
   "cell_type": "code",
   "execution_count": 1,
   "metadata": {},
   "outputs": [],
   "source": [
    "import networkx as nx"
   ]
  },
  {
   "attachments": {},
   "cell_type": "markdown",
   "metadata": {},
   "source": [
    "#### Create graph"
   ]
  },
  {
   "cell_type": "code",
   "execution_count": 4,
   "metadata": {},
   "outputs": [],
   "source": [
    "def create_graph(edges):\n",
    "    G = nx.Graph()\n",
    "    G.add_weighted_edges_from(edges)\n",
    "    return G\n",
    "\n",
    "# Replace this list with your list of weighted edges\n",
    "\n",
    "edges = [\n",
    "    ('A', 'B', 8),\n",
    "    ('A', 'C', 5),\n",
    "    ('A', 'F', 12),\n",
    "    ('A', 'E', 6),\n",
    "    ('B', 'D', 2),\n",
    "    ('B', 'F', 2),\n",
    "    ('C', 'D', 4),\n",
    "    ('C', 'E', 5),\n",
    "    ('D', 'I', 8),\n",
    "    ('D', 'H', 5),\n",
    "    ('E', 'I', 6),\n",
    "    ('F', 'H', 9),\n",
    "    ('H', 'I', 4)\n",
    "]\n",
    "\n",
    "G = create_graph(edges)\n"
   ]
  },
  {
   "attachments": {},
   "cell_type": "markdown",
   "metadata": {},
   "source": [
    "#### Calculate graph diameter"
   ]
  },
  {
   "cell_type": "code",
   "execution_count": 5,
   "metadata": {},
   "outputs": [
    {
     "name": "stdout",
     "output_type": "stream",
     "text": [
      "The diameter of the graph is: 14\n"
     ]
    }
   ],
   "source": [
    "def calculate_diameter(G):\n",
    "    try:\n",
    "        path_lengths = nx.all_pairs_dijkstra_path_length(G)\n",
    "        max_path_length = max(max(lengths.values()) for _, lengths in path_lengths)\n",
    "        return max_path_length\n",
    "    except nx.exception.NetworkXError:\n",
    "        # The graph is not connected, so diameter is not defined.\n",
    "        return None\n",
    "\n",
    "if __name__ == \"__main__\":\n",
    "    G = create_graph(edges)\n",
    "    diameter = calculate_diameter(G)\n",
    "\n",
    "    if diameter is not None:\n",
    "        print(\"The diameter of the graph is:\", diameter)\n",
    "    else:\n",
    "        print(\"The graph is not connected, so the diameter is not defined.\")\n"
   ]
  },
  {
   "cell_type": "code",
   "execution_count": null,
   "metadata": {},
   "outputs": [],
   "source": []
  }
 ],
 "metadata": {
  "kernelspec": {
   "display_name": "Python 3",
   "language": "python",
   "name": "python3"
  },
  "language_info": {
   "codemirror_mode": {
    "name": "ipython",
    "version": 3
   },
   "file_extension": ".py",
   "mimetype": "text/x-python",
   "name": "python",
   "nbconvert_exporter": "python",
   "pygments_lexer": "ipython3",
   "version": "3.11.2"
  },
  "orig_nbformat": 4
 },
 "nbformat": 4,
 "nbformat_minor": 2
}
