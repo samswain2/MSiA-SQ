{
 "cells": [
  {
   "cell_type": "markdown",
   "metadata": {},
   "source": [
    "# Symmetric Encryption\n",
    "\n",
    "Symmetric encryption is a type of encryption where only one secret symmetric key is used to encrypt the plaintext and decrypt the ciphertext.\n",
    "\n",
    "- Data Encryption Standards (DES): DES is a low-level encryption block cipher algorithm that converts plain text in blocks of 64 bits and converts them to ciphertext using keys of 48 bits. \n",
    "- Triple DES: Triple-DES runs DES encryption three different times by encrypting, decrypting, and then encrypting data again.\n",
    "- Advanced Encryption Standard (AES): AES is often referred to as the gold standard for data encryption and is used worldwide as the U.S. government standard.\n",
    "- Twofish: Twofish is considered one of the fastest encryption algorithms and is free to use."
   ]
  },
  {
   "cell_type": "code",
   "execution_count": 2,
   "metadata": {},
   "outputs": [],
   "source": [
    "import os\n",
    "from cryptography.hazmat.primitives.ciphers import Cipher, algorithms, modes"
   ]
  },
  {
   "cell_type": "markdown",
   "metadata": {},
   "source": [
    "### Encryption"
   ]
  },
  {
   "cell_type": "code",
   "execution_count": 6,
   "metadata": {},
   "outputs": [
    {
     "name": "stdout",
     "output_type": "stream",
     "text": [
      "b'\\x0f\\xe84\\x8b\\xc1m?\\xf8\\xdb]\\x93>5|K\\xb6'\n"
     ]
    }
   ],
   "source": [
    "#Use AES to encrypt the message\n",
    "key = os.urandom(32)\n",
    "iv = os.urandom(16)\n",
    "cipher = Cipher(algorithms.AES(key), modes.CBC(iv))\n",
    "encryptor = cipher.encryptor()\n",
    "\n",
    "message = b'a secret message'\n",
    "encrypted = encryptor.update(message) + encryptor.finalize()\n",
    "print(encrypted)"
   ]
  },
  {
   "cell_type": "markdown",
   "metadata": {},
   "source": [
    "### Decryption"
   ]
  },
  {
   "cell_type": "code",
   "execution_count": 7,
   "metadata": {},
   "outputs": [
    {
     "name": "stdout",
     "output_type": "stream",
     "text": [
      "b'a secret message'\n"
     ]
    }
   ],
   "source": [
    "# Decrypting\n",
    "decryptor = cipher.decryptor()\n",
    "decrypted = decryptor.update(encrypted) + decryptor.finalize()\n",
    "\n",
    "# Checking the results\n",
    "print(decrypted)"
   ]
  }
 ],
 "metadata": {
  "kernelspec": {
   "display_name": "Python 3 (ipykernel)",
   "language": "python",
   "name": "python3"
  },
  "language_info": {
   "codemirror_mode": {
    "name": "ipython",
    "version": 3
   },
   "file_extension": ".py",
   "mimetype": "text/x-python",
   "name": "python",
   "nbconvert_exporter": "python",
   "pygments_lexer": "ipython3",
   "version": "3.11.2"
  }
 },
 "nbformat": 4,
 "nbformat_minor": 4
}
