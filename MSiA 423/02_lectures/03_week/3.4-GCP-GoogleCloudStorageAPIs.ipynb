{
 "cells": [
  {
   "cell_type": "markdown",
   "metadata": {},
   "source": [
    "\n",
    "# Google Cloud Storage\n",
    "\n",
    "\n",
    "### Prerequistes\n",
    "\n",
    "`pip install --upgrade gcloud`\n",
    "\n",
    "`pip install --upgrade google-cloud-storage`"
   ]
  },
  {
   "cell_type": "code",
   "execution_count": 1,
   "metadata": {},
   "outputs": [
    {
     "name": "stdout",
     "output_type": "stream",
     "text": [
      "Collecting gcloud\n",
      "  Downloading gcloud-0.18.3.tar.gz (454 kB)\n",
      "     ---------------------------------------- 0.0/454.4 kB ? eta -:--:--\n",
      "     ------------------ ------------------- 225.3/454.4 kB 6.7 MB/s eta 0:00:01\n",
      "     -------------------------------------- 454.4/454.4 kB 7.0 MB/s eta 0:00:00\n",
      "  Preparing metadata (setup.py): started\n",
      "  Preparing metadata (setup.py): finished with status 'done'\n",
      "Collecting httplib2>=0.9.1\n",
      "  Downloading httplib2-0.22.0-py3-none-any.whl (96 kB)\n",
      "     ---------------------------------------- 0.0/96.9 kB ? eta -:--:--\n",
      "     ---------------------------------------- 96.9/96.9 kB 5.4 MB/s eta 0:00:00\n",
      "Collecting googleapis-common-protos\n",
      "  Downloading googleapis_common_protos-1.59.0-py2.py3-none-any.whl (223 kB)\n",
      "     ---------------------------------------- 0.0/223.6 kB ? eta -:--:--\n",
      "     -------------------------------------- 223.6/223.6 kB 6.7 MB/s eta 0:00:00\n",
      "Collecting oauth2client>=2.0.1\n",
      "  Downloading oauth2client-4.1.3-py2.py3-none-any.whl (98 kB)\n",
      "     ---------------------------------------- 0.0/98.2 kB ? eta -:--:--\n",
      "     ---------------------------------------- 98.2/98.2 kB 5.9 MB/s eta 0:00:00\n",
      "Requirement already satisfied: protobuf!=3.0.0.b2.post1,>=3.0.0b2 in c:\\users\\sam\\appdata\\local\\programs\\python\\python311\\lib\\site-packages (from gcloud) (4.22.1)\n",
      "Requirement already satisfied: six in c:\\users\\sam\\appdata\\roaming\\python\\python311\\site-packages (from gcloud) (1.16.0)\n",
      "Requirement already satisfied: pyparsing!=3.0.0,!=3.0.1,!=3.0.2,!=3.0.3,<4,>=2.4.2 in c:\\users\\sam\\appdata\\local\\programs\\python\\python311\\lib\\site-packages (from httplib2>=0.9.1->gcloud) (3.0.9)\n",
      "Requirement already satisfied: pyasn1>=0.1.7 in c:\\users\\sam\\appdata\\local\\programs\\python\\python311\\lib\\site-packages (from oauth2client>=2.0.1->gcloud) (0.4.8)\n",
      "Requirement already satisfied: pyasn1-modules>=0.0.5 in c:\\users\\sam\\appdata\\local\\programs\\python\\python311\\lib\\site-packages (from oauth2client>=2.0.1->gcloud) (0.2.8)\n",
      "Requirement already satisfied: rsa>=3.1.4 in c:\\users\\sam\\appdata\\local\\programs\\python\\python311\\lib\\site-packages (from oauth2client>=2.0.1->gcloud) (4.9)\n",
      "Building wheels for collected packages: gcloud\n",
      "  Building wheel for gcloud (setup.py): started\n",
      "  Building wheel for gcloud (setup.py): finished with status 'done'\n",
      "  Created wheel for gcloud: filename=gcloud-0.18.3-py3-none-any.whl size=602982 sha256=dce7dee25f1653ca27f7ecbb34aaa1e6795d2776d13a20e39c92da87bfa19c20\n",
      "  Stored in directory: c:\\users\\sam\\appdata\\local\\pip\\cache\\wheels\\3c\\e8\\d1\\cb82a63f69083ea485de71d14248b8d145f1af46a41578be9c\n",
      "Successfully built gcloud\n",
      "Installing collected packages: httplib2, googleapis-common-protos, oauth2client, gcloud\n",
      "Successfully installed gcloud-0.18.3 googleapis-common-protos-1.59.0 httplib2-0.22.0 oauth2client-4.1.3\n",
      "Collecting google-cloud-storage\n",
      "  Downloading google_cloud_storage-2.8.0-py2.py3-none-any.whl (113 kB)\n",
      "     ---------------------------------------- 0.0/113.6 kB ? eta -:--:--\n",
      "     -------------------------------------- 113.6/113.6 kB 6.9 MB/s eta 0:00:00\n",
      "Requirement already satisfied: google-auth<3.0dev,>=1.25.0 in c:\\users\\sam\\appdata\\local\\programs\\python\\python311\\lib\\site-packages (from google-cloud-storage) (2.16.2)\n",
      "Collecting google-api-core!=2.0.*,!=2.1.*,!=2.2.*,!=2.3.0,<3.0.0dev,>=1.31.5\n",
      "  Downloading google_api_core-2.11.0-py3-none-any.whl (120 kB)\n",
      "     ---------------------------------------- 0.0/120.3 kB ? eta -:--:--\n",
      "     -------------------------------------- 120.3/120.3 kB 7.3 MB/s eta 0:00:00\n",
      "Collecting google-cloud-core<3.0dev,>=2.3.0\n",
      "  Downloading google_cloud_core-2.3.2-py2.py3-none-any.whl (29 kB)\n",
      "Collecting google-resumable-media>=2.3.2\n",
      "  Downloading google_resumable_media-2.4.1-py2.py3-none-any.whl (77 kB)\n",
      "     ---------------------------------------- 0.0/77.7 kB ? eta -:--:--\n",
      "     ---------------------------------------- 77.7/77.7 kB ? eta 0:00:00\n",
      "Requirement already satisfied: requests<3.0.0dev,>=2.18.0 in c:\\users\\sam\\appdata\\local\\programs\\python\\python311\\lib\\site-packages (from google-cloud-storage) (2.28.2)\n",
      "Requirement already satisfied: googleapis-common-protos<2.0dev,>=1.56.2 in c:\\users\\sam\\appdata\\local\\programs\\python\\python311\\lib\\site-packages (from google-api-core!=2.0.*,!=2.1.*,!=2.2.*,!=2.3.0,<3.0.0dev,>=1.31.5->google-cloud-storage) (1.59.0)\n",
      "Requirement already satisfied: protobuf!=3.20.0,!=3.20.1,!=4.21.0,!=4.21.1,!=4.21.2,!=4.21.3,!=4.21.4,!=4.21.5,<5.0.0dev,>=3.19.5 in c:\\users\\sam\\appdata\\local\\programs\\python\\python311\\lib\\site-packages (from google-api-core!=2.0.*,!=2.1.*,!=2.2.*,!=2.3.0,<3.0.0dev,>=1.31.5->google-cloud-storage) (4.22.1)\n",
      "Requirement already satisfied: cachetools<6.0,>=2.0.0 in c:\\users\\sam\\appdata\\local\\programs\\python\\python311\\lib\\site-packages (from google-auth<3.0dev,>=1.25.0->google-cloud-storage) (5.3.0)\n",
      "Requirement already satisfied: pyasn1-modules>=0.2.1 in c:\\users\\sam\\appdata\\local\\programs\\python\\python311\\lib\\site-packages (from google-auth<3.0dev,>=1.25.0->google-cloud-storage) (0.2.8)\n",
      "Requirement already satisfied: six>=1.9.0 in c:\\users\\sam\\appdata\\roaming\\python\\python311\\site-packages (from google-auth<3.0dev,>=1.25.0->google-cloud-storage) (1.16.0)\n",
      "Requirement already satisfied: rsa<5,>=3.1.4 in c:\\users\\sam\\appdata\\local\\programs\\python\\python311\\lib\\site-packages (from google-auth<3.0dev,>=1.25.0->google-cloud-storage) (4.9)\n",
      "Collecting google-crc32c<2.0dev,>=1.0\n",
      "  Downloading google_crc32c-1.5.0-cp311-cp311-win_amd64.whl (27 kB)\n",
      "Requirement already satisfied: charset-normalizer<4,>=2 in c:\\users\\sam\\appdata\\local\\programs\\python\\python311\\lib\\site-packages (from requests<3.0.0dev,>=2.18.0->google-cloud-storage) (3.1.0)\n",
      "Requirement already satisfied: idna<4,>=2.5 in c:\\users\\sam\\appdata\\local\\programs\\python\\python311\\lib\\site-packages (from requests<3.0.0dev,>=2.18.0->google-cloud-storage) (3.4)\n",
      "Requirement already satisfied: urllib3<1.27,>=1.21.1 in c:\\users\\sam\\appdata\\local\\programs\\python\\python311\\lib\\site-packages (from requests<3.0.0dev,>=2.18.0->google-cloud-storage) (1.26.15)\n",
      "Requirement already satisfied: certifi>=2017.4.17 in c:\\users\\sam\\appdata\\local\\programs\\python\\python311\\lib\\site-packages (from requests<3.0.0dev,>=2.18.0->google-cloud-storage) (2022.12.7)\n",
      "Requirement already satisfied: pyasn1<0.5.0,>=0.4.6 in c:\\users\\sam\\appdata\\local\\programs\\python\\python311\\lib\\site-packages (from pyasn1-modules>=0.2.1->google-auth<3.0dev,>=1.25.0->google-cloud-storage) (0.4.8)\n",
      "Installing collected packages: google-crc32c, google-resumable-media, google-api-core, google-cloud-core, google-cloud-storage\n",
      "Successfully installed google-api-core-2.11.0 google-cloud-core-2.3.2 google-cloud-storage-2.8.0 google-crc32c-1.5.0 google-resumable-media-2.4.1\n"
     ]
    }
   ],
   "source": [
    "!pip install --upgrade gcloud\n",
    "!pip install --upgrade google-cloud-storage"
   ]
  },
  {
   "cell_type": "markdown",
   "metadata": {},
   "source": [
    "### Steps to connect to Google Cloud Storage from Python\n",
    "\n",
    "**1) Create Service Account** - Done\n",
    "\n",
    "Google Cloud Platform API authentication and authorization (commonly grouped together as \"auth\") is typically done using a service account. A service account allows your code to send application credentials directly to the Cloud API.\n",
    "        \n",
    "**2) Download credentials file** - Done\n",
    "    \n",
    "    Download JSON file from Google Cloud \n",
    "     \n",
    "**3) Set OS environment variable** \n",
    "    \n",
    "    GOOGLE_APPLICATION_CREDENTIALS to point to downloaded JSON file\n",
    "\n",
    "Reference:\n",
    "\n",
    "- https://cloud.google.com/video-intelligence/docs/common/auth\n",
    "- https://googleapis.github.io/google-cloud-python/latest/storage/client.html"
   ]
  },
  {
   "cell_type": "markdown",
   "metadata": {},
   "source": [
    "### Set environment variable"
   ]
  },
  {
   "cell_type": "code",
   "execution_count": 6,
   "metadata": {},
   "outputs": [
    {
     "name": "stdout",
     "output_type": "stream",
     "text": [
      "C:/Users/ashis/Downloads/bigdata-365900-8bae651dffc3.json\n"
     ]
    }
   ],
   "source": [
    "#Method 1\n",
    "import sys,os,os.path\n",
    "print(os.environ['GOOGLE_APPLICATION_CREDENTIALS'])"
   ]
  },
  {
   "cell_type": "code",
   "execution_count": 11,
   "metadata": {},
   "outputs": [],
   "source": [
    "#Set Path Temporarily\n",
    "#Permanently path can be set only in bash_profile on Mac or Enviornment variables in Windows\n",
    "os.environ['GOOGLE_APPLICATION_CREDENTIALS'] = \"C:/Users/Sam/Downloads/grand-magpie-383500-39b0d5b24873.json\""
   ]
  },
  {
   "cell_type": "markdown",
   "metadata": {},
   "source": [
    "### Check if variable has been set"
   ]
  },
  {
   "cell_type": "code",
   "execution_count": 12,
   "metadata": {},
   "outputs": [
    {
     "name": "stdout",
     "output_type": "stream",
     "text": [
      "C:/Users/Sam/Downloads/grand-magpie-383500-39b0d5b24873.json\n"
     ]
    }
   ],
   "source": [
    "#Method 2\n",
    "! echo %GOOGLE_APPLICATION_CREDENTIALS%\n",
    "#!echo $GOOGLE_APPLICATION_CREDENTIALS"
   ]
  },
  {
   "cell_type": "markdown",
   "metadata": {},
   "source": [
    "### GCP Storage APIs"
   ]
  },
  {
   "cell_type": "code",
   "execution_count": 13,
   "metadata": {},
   "outputs": [
    {
     "name": "stdout",
     "output_type": "stream",
     "text": [
      "<Bucket: ce_test_bucket>\n"
     ]
    }
   ],
   "source": [
    "# Imports the Google Cloud client library\n",
    "from google.cloud import storage\n",
    "\n",
    "# Instantiates a client\n",
    "client = storage.Client()\n",
    "\n",
    "# List Buckets\n",
    "for bucket in client.list_buckets():\n",
    "    print(bucket)"
   ]
  },
  {
   "cell_type": "code",
   "execution_count": 15,
   "metadata": {},
   "outputs": [
    {
     "name": "stdout",
     "output_type": "stream",
     "text": [
      "Bucket created.\n"
     ]
    }
   ],
   "source": [
    "# Creates a new bucket\n",
    "bucket2 = client.create_bucket(\"gcs_programmatically_created_bucket\")\n",
    "print('Bucket created.')"
   ]
  },
  {
   "cell_type": "code",
   "execution_count": 16,
   "metadata": {},
   "outputs": [
    {
     "name": "stdout",
     "output_type": "stream",
     "text": [
      "Downloading earthquakes file with urllib2...\n"
     ]
    },
    {
     "data": {
      "text/plain": [
       "('all_week.csv', <http.client.HTTPMessage at 0x25eb2c9f9d0>)"
      ]
     },
     "execution_count": 16,
     "metadata": {},
     "output_type": "execute_result"
    }
   ],
   "source": [
    "#Download file https://earthquake.usgs.gov/earthquakes/feed/v1.0/summary/all_week.csv\n",
    "import urllib.request\n",
    "print(\"Downloading earthquakes file with urllib2...\")\n",
    "url = 'https://earthquake.usgs.gov/earthquakes/feed/v1.0/summary/all_week.csv'  \n",
    "urllib.request.urlretrieve(url, 'all_week.csv')  "
   ]
  },
  {
   "cell_type": "code",
   "execution_count": 17,
   "metadata": {},
   "outputs": [],
   "source": [
    "# Upload File to the bucket \n",
    "blob = bucket2.blob(\"earthquake\")\n",
    "blob.upload_from_filename(\"all_week.csv\")"
   ]
  },
  {
   "cell_type": "markdown",
   "metadata": {},
   "source": [
    "Verify downloaded file has been uploaded to Cloud Storage bucket"
   ]
  }
 ],
 "metadata": {
  "kernelspec": {
   "display_name": "Python 3 (ipykernel)",
   "language": "python",
   "name": "python3"
  },
  "language_info": {
   "codemirror_mode": {
    "name": "ipython",
    "version": 3
   },
   "file_extension": ".py",
   "mimetype": "text/x-python",
   "name": "python",
   "nbconvert_exporter": "python",
   "pygments_lexer": "ipython3",
   "version": "3.11.2"
  }
 },
 "nbformat": 4,
 "nbformat_minor": 2
}
